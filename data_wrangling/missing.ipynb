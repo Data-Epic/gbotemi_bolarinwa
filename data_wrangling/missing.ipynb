{
 "cells": [
  {
   "cell_type": "code",
   "execution_count": 1,
   "metadata": {},
   "outputs": [],
   "source": [
    "import pandas as pd\n",
    "import numpy as np\n",
    "import gspread\n",
    "import matplotlib.pyplot as plt\n",
    "import seaborn as sns\n",
    "\n",
    "pd.set_option('display.max_columns', None)\n",
    "\n",
    "import warnings\n",
    "warnings.filterwarnings('ignore')"
   ]
  },
  {
   "cell_type": "code",
   "execution_count": 2,
   "metadata": {},
   "outputs": [],
   "source": [
    "gc = gspread.service_account(filename='/home/gbotemi/Documents/gbotemi_bolarinwa/gspread-project/secret.json')"
   ]
  },
  {
   "cell_type": "code",
   "execution_count": 3,
   "metadata": {},
   "outputs": [],
   "source": [
    "file = \"https://docs.google.com/spreadsheets/d/1SUlcukpgxf6pfFQbj6DKQZXSlOhyBOSuBdbmQ2ZbhTM/edit?usp=sharing\""
   ]
  },
  {
   "cell_type": "code",
   "execution_count": 4,
   "metadata": {},
   "outputs": [],
   "source": [
    "sh = gc.open_by_url(file)"
   ]
  },
  {
   "cell_type": "code",
   "execution_count": 5,
   "metadata": {},
   "outputs": [],
   "source": [
    "worksheet = sh.get_worksheet(0)"
   ]
  },
  {
   "cell_type": "code",
   "execution_count": 6,
   "metadata": {},
   "outputs": [],
   "source": [
    "data = pd.DataFrame(worksheet.get_all_records())"
   ]
  },
  {
   "cell_type": "code",
   "execution_count": 7,
   "metadata": {},
   "outputs": [
    {
     "name": "stdout",
     "output_type": "stream",
     "text": [
      "<class 'pandas.core.frame.DataFrame'>\n",
      "RangeIndex: 15364 entries, 0 to 15363\n",
      "Data columns (total 43 columns):\n",
      " #   Column                                  Non-Null Count  Dtype  \n",
      "---  ------                                  --------------  -----  \n",
      " 0   Permit Number                           15364 non-null  object \n",
      " 1   Permit Type                             15364 non-null  int64  \n",
      " 2   Permit Type Definition                  15364 non-null  object \n",
      " 3   Permit Creation Date                    15364 non-null  object \n",
      " 4   Block                                   15364 non-null  object \n",
      " 5   Lot                                     15364 non-null  object \n",
      " 6   Street Number                           15364 non-null  int64  \n",
      " 7   Street Number Suffix                    15364 non-null  object \n",
      " 8   Street Name                             15364 non-null  object \n",
      " 9   Street Suffix                           15364 non-null  object \n",
      " 10  Unit                                    15364 non-null  object \n",
      " 11  Unit Suffix                             15364 non-null  object \n",
      " 12  Description                             15364 non-null  object \n",
      " 13  Current Status                          15364 non-null  object \n",
      " 14  Current Status Date                     15364 non-null  object \n",
      " 15  Filed Date                              15364 non-null  object \n",
      " 16  Issued Date                             15364 non-null  object \n",
      " 17  Completed Date                          15364 non-null  object \n",
      " 18  First Construction Document Date        15364 non-null  object \n",
      " 19  Structural Notification                 15364 non-null  object \n",
      " 20  Number of Existing Stories              15364 non-null  object \n",
      " 21  Number of Proposed Stories              15364 non-null  object \n",
      " 22  Voluntary Soft-Story Retrofit           15364 non-null  object \n",
      " 23  Fire Only Permit                        15364 non-null  object \n",
      " 24  Permit Expiration Date                  15364 non-null  object \n",
      " 25  Estimated Cost                          15364 non-null  object \n",
      " 26  Revised Cost                            15364 non-null  object \n",
      " 27  Existing Use                            15364 non-null  object \n",
      " 28  Existing Units                          15364 non-null  object \n",
      " 29  Proposed Use                            15364 non-null  object \n",
      " 30  Proposed Units                          15364 non-null  object \n",
      " 31  Plansets                                15364 non-null  object \n",
      " 32  TIDF Compliance                         15364 non-null  object \n",
      " 33  Existing Construction Type              15364 non-null  object \n",
      " 34  Existing Construction Type Description  15364 non-null  object \n",
      " 35  Proposed Construction Type              15364 non-null  object \n",
      " 36  Proposed Construction Type Description  15364 non-null  object \n",
      " 37  Site Permit                             15364 non-null  object \n",
      " 38  Supervisor District                     15364 non-null  object \n",
      " 39  Neighborhoods - Analysis Boundaries     15364 non-null  object \n",
      " 40  Zipcode                                 15364 non-null  object \n",
      " 41  Location                                15364 non-null  object \n",
      " 42  Record ID                               15364 non-null  float64\n",
      "dtypes: float64(1), int64(2), object(40)\n",
      "memory usage: 5.0+ MB\n"
     ]
    }
   ],
   "source": [
    "data.info()"
   ]
  },
  {
   "cell_type": "code",
   "execution_count": 8,
   "metadata": {},
   "outputs": [
    {
     "data": {
      "text/plain": [
       "(15364, 43)"
      ]
     },
     "execution_count": 8,
     "metadata": {},
     "output_type": "execute_result"
    }
   ],
   "source": [
    "data.shape"
   ]
  },
  {
   "cell_type": "code",
   "execution_count": 9,
   "metadata": {},
   "outputs": [],
   "source": [
    "data.columns = data.columns.str.lower() # lower columns values\n"
   ]
  },
  {
   "cell_type": "code",
   "execution_count": 10,
   "metadata": {},
   "outputs": [
    {
     "data": {
      "text/html": [
       "<div>\n",
       "<style scoped>\n",
       "    .dataframe tbody tr th:only-of-type {\n",
       "        vertical-align: middle;\n",
       "    }\n",
       "\n",
       "    .dataframe tbody tr th {\n",
       "        vertical-align: top;\n",
       "    }\n",
       "\n",
       "    .dataframe thead th {\n",
       "        text-align: right;\n",
       "    }\n",
       "</style>\n",
       "<table border=\"1\" class=\"dataframe\">\n",
       "  <thead>\n",
       "    <tr style=\"text-align: right;\">\n",
       "      <th></th>\n",
       "      <th>permit number</th>\n",
       "      <th>permit type</th>\n",
       "      <th>permit type definition</th>\n",
       "      <th>permit creation date</th>\n",
       "      <th>block</th>\n",
       "      <th>lot</th>\n",
       "      <th>street number</th>\n",
       "      <th>street number suffix</th>\n",
       "      <th>street name</th>\n",
       "      <th>street suffix</th>\n",
       "      <th>unit</th>\n",
       "      <th>unit suffix</th>\n",
       "      <th>description</th>\n",
       "      <th>current status</th>\n",
       "      <th>current status date</th>\n",
       "      <th>filed date</th>\n",
       "      <th>issued date</th>\n",
       "      <th>completed date</th>\n",
       "      <th>first construction document date</th>\n",
       "      <th>structural notification</th>\n",
       "      <th>number of existing stories</th>\n",
       "      <th>number of proposed stories</th>\n",
       "      <th>voluntary soft-story retrofit</th>\n",
       "      <th>fire only permit</th>\n",
       "      <th>permit expiration date</th>\n",
       "      <th>estimated cost</th>\n",
       "      <th>revised cost</th>\n",
       "      <th>existing use</th>\n",
       "      <th>existing units</th>\n",
       "      <th>proposed use</th>\n",
       "      <th>proposed units</th>\n",
       "      <th>plansets</th>\n",
       "      <th>tidf compliance</th>\n",
       "      <th>existing construction type</th>\n",
       "      <th>existing construction type description</th>\n",
       "      <th>proposed construction type</th>\n",
       "      <th>proposed construction type description</th>\n",
       "      <th>site permit</th>\n",
       "      <th>supervisor district</th>\n",
       "      <th>neighborhoods - analysis boundaries</th>\n",
       "      <th>zipcode</th>\n",
       "      <th>location</th>\n",
       "      <th>record id</th>\n",
       "    </tr>\n",
       "  </thead>\n",
       "  <tbody>\n",
       "    <tr>\n",
       "      <th>0</th>\n",
       "      <td>201505000000.0</td>\n",
       "      <td>4</td>\n",
       "      <td>sign - erect</td>\n",
       "      <td>05/06/2015</td>\n",
       "      <td>326</td>\n",
       "      <td>23</td>\n",
       "      <td>140</td>\n",
       "      <td></td>\n",
       "      <td>Ellis</td>\n",
       "      <td>St</td>\n",
       "      <td></td>\n",
       "      <td></td>\n",
       "      <td>ground fl facade: to erect illuminated, electr...</td>\n",
       "      <td>expired</td>\n",
       "      <td>12/21/2017</td>\n",
       "      <td>05/06/2015</td>\n",
       "      <td>11/09/2015</td>\n",
       "      <td></td>\n",
       "      <td>11/09/2015</td>\n",
       "      <td></td>\n",
       "      <td>6</td>\n",
       "      <td></td>\n",
       "      <td></td>\n",
       "      <td></td>\n",
       "      <td>11/03/2016</td>\n",
       "      <td>4000</td>\n",
       "      <td>4000</td>\n",
       "      <td>tourist hotel/motel</td>\n",
       "      <td>143</td>\n",
       "      <td></td>\n",
       "      <td></td>\n",
       "      <td>2</td>\n",
       "      <td></td>\n",
       "      <td>3</td>\n",
       "      <td>constr type 3</td>\n",
       "      <td></td>\n",
       "      <td></td>\n",
       "      <td></td>\n",
       "      <td>3</td>\n",
       "      <td>Tenderloin</td>\n",
       "      <td>94102</td>\n",
       "      <td>(37.785719256680785, -122.40852313194863)</td>\n",
       "      <td>1.380610e+12</td>\n",
       "    </tr>\n",
       "    <tr>\n",
       "      <th>1</th>\n",
       "      <td>201604000000.0</td>\n",
       "      <td>4</td>\n",
       "      <td>sign - erect</td>\n",
       "      <td>04/19/2016</td>\n",
       "      <td>306</td>\n",
       "      <td>7</td>\n",
       "      <td>440</td>\n",
       "      <td></td>\n",
       "      <td>Geary</td>\n",
       "      <td>St</td>\n",
       "      <td>0</td>\n",
       "      <td></td>\n",
       "      <td>remove (e) awning and associated signs.</td>\n",
       "      <td>issued</td>\n",
       "      <td>08/03/2017</td>\n",
       "      <td>04/19/2016</td>\n",
       "      <td>08/03/2017</td>\n",
       "      <td></td>\n",
       "      <td>08/03/2017</td>\n",
       "      <td></td>\n",
       "      <td>7</td>\n",
       "      <td></td>\n",
       "      <td></td>\n",
       "      <td></td>\n",
       "      <td>12/03/2017</td>\n",
       "      <td>1</td>\n",
       "      <td>500</td>\n",
       "      <td>tourist hotel/motel</td>\n",
       "      <td></td>\n",
       "      <td></td>\n",
       "      <td></td>\n",
       "      <td>2</td>\n",
       "      <td></td>\n",
       "      <td>3</td>\n",
       "      <td>constr type 3</td>\n",
       "      <td></td>\n",
       "      <td></td>\n",
       "      <td></td>\n",
       "      <td>3</td>\n",
       "      <td>Tenderloin</td>\n",
       "      <td>94102</td>\n",
       "      <td>(37.78733980600732, -122.41063199757738)</td>\n",
       "      <td>1.420160e+12</td>\n",
       "    </tr>\n",
       "    <tr>\n",
       "      <th>2</th>\n",
       "      <td>201605000000.0</td>\n",
       "      <td>3</td>\n",
       "      <td>additions alterations or repairs</td>\n",
       "      <td>05/27/2016</td>\n",
       "      <td>595</td>\n",
       "      <td>203</td>\n",
       "      <td>1647</td>\n",
       "      <td></td>\n",
       "      <td>Pacific</td>\n",
       "      <td>Av</td>\n",
       "      <td></td>\n",
       "      <td></td>\n",
       "      <td>installation of separating wall</td>\n",
       "      <td>withdrawn</td>\n",
       "      <td>09/26/2017</td>\n",
       "      <td>05/27/2016</td>\n",
       "      <td></td>\n",
       "      <td></td>\n",
       "      <td></td>\n",
       "      <td></td>\n",
       "      <td>6</td>\n",
       "      <td>6</td>\n",
       "      <td></td>\n",
       "      <td></td>\n",
       "      <td></td>\n",
       "      <td>20000</td>\n",
       "      <td></td>\n",
       "      <td>retail sales</td>\n",
       "      <td>39</td>\n",
       "      <td>retail sales</td>\n",
       "      <td>39</td>\n",
       "      <td>2</td>\n",
       "      <td></td>\n",
       "      <td>1</td>\n",
       "      <td>constr type 1</td>\n",
       "      <td>1</td>\n",
       "      <td>constr type 1</td>\n",
       "      <td></td>\n",
       "      <td>3</td>\n",
       "      <td>Russian Hill</td>\n",
       "      <td>94109</td>\n",
       "      <td>(37.7946573324287, -122.42232562979227)</td>\n",
       "      <td>1.424860e+12</td>\n",
       "    </tr>\n",
       "    <tr>\n",
       "      <th>3</th>\n",
       "      <td>201611000000.0</td>\n",
       "      <td>8</td>\n",
       "      <td>otc alterations permit</td>\n",
       "      <td>11/07/2016</td>\n",
       "      <td>156</td>\n",
       "      <td>11</td>\n",
       "      <td>1230</td>\n",
       "      <td></td>\n",
       "      <td>Pacific</td>\n",
       "      <td>Av</td>\n",
       "      <td>0</td>\n",
       "      <td></td>\n",
       "      <td>repair dryrot &amp; stucco at front of bldg.</td>\n",
       "      <td>complete</td>\n",
       "      <td>07/24/2017</td>\n",
       "      <td>11/07/2016</td>\n",
       "      <td>07/18/2017</td>\n",
       "      <td>07/24/2017</td>\n",
       "      <td>07/18/2017</td>\n",
       "      <td></td>\n",
       "      <td>2</td>\n",
       "      <td>2</td>\n",
       "      <td></td>\n",
       "      <td></td>\n",
       "      <td>07/13/2018</td>\n",
       "      <td>2000</td>\n",
       "      <td>2000</td>\n",
       "      <td>1 family dwelling</td>\n",
       "      <td>1</td>\n",
       "      <td>1 family dwelling</td>\n",
       "      <td>1</td>\n",
       "      <td>2</td>\n",
       "      <td></td>\n",
       "      <td>5</td>\n",
       "      <td>wood frame (5)</td>\n",
       "      <td>5</td>\n",
       "      <td>wood frame (5)</td>\n",
       "      <td></td>\n",
       "      <td>3</td>\n",
       "      <td>Nob Hill</td>\n",
       "      <td>94109</td>\n",
       "      <td>(37.79595867909168, -122.41557405519474)</td>\n",
       "      <td>1.443570e+12</td>\n",
       "    </tr>\n",
       "    <tr>\n",
       "      <th>4</th>\n",
       "      <td>201611000000.0</td>\n",
       "      <td>6</td>\n",
       "      <td>demolitions</td>\n",
       "      <td>11/28/2016</td>\n",
       "      <td>342</td>\n",
       "      <td>1</td>\n",
       "      <td>950</td>\n",
       "      <td></td>\n",
       "      <td>Market</td>\n",
       "      <td>St</td>\n",
       "      <td></td>\n",
       "      <td></td>\n",
       "      <td>demolish retail/office/commercial 3-story buil...</td>\n",
       "      <td>issued</td>\n",
       "      <td>12/01/2017</td>\n",
       "      <td>11/28/2016</td>\n",
       "      <td>12/01/2017</td>\n",
       "      <td></td>\n",
       "      <td>11/20/2017</td>\n",
       "      <td></td>\n",
       "      <td>3</td>\n",
       "      <td></td>\n",
       "      <td></td>\n",
       "      <td></td>\n",
       "      <td>12/01/2018</td>\n",
       "      <td>100000</td>\n",
       "      <td>100000</td>\n",
       "      <td>retail sales</td>\n",
       "      <td></td>\n",
       "      <td></td>\n",
       "      <td></td>\n",
       "      <td>2</td>\n",
       "      <td></td>\n",
       "      <td>3</td>\n",
       "      <td>constr type 3</td>\n",
       "      <td></td>\n",
       "      <td></td>\n",
       "      <td></td>\n",
       "      <td>6</td>\n",
       "      <td>Tenderloin</td>\n",
       "      <td>94102</td>\n",
       "      <td>(37.78315261897309, -122.40950883997789)</td>\n",
       "      <td>1.445480e+11</td>\n",
       "    </tr>\n",
       "  </tbody>\n",
       "</table>\n",
       "</div>"
      ],
      "text/plain": [
       "    permit number  permit type            permit type definition  \\\n",
       "0  201505000000.0            4                      sign - erect   \n",
       "1  201604000000.0            4                      sign - erect   \n",
       "2  201605000000.0            3  additions alterations or repairs   \n",
       "3  201611000000.0            8            otc alterations permit   \n",
       "4  201611000000.0            6                       demolitions   \n",
       "\n",
       "  permit creation date block  lot  street number street number suffix  \\\n",
       "0           05/06/2015   326   23            140                        \n",
       "1           04/19/2016   306    7            440                        \n",
       "2           05/27/2016   595  203           1647                        \n",
       "3           11/07/2016   156   11           1230                        \n",
       "4           11/28/2016   342    1            950                        \n",
       "\n",
       "  street name street suffix unit unit suffix  \\\n",
       "0       Ellis            St                    \n",
       "1       Geary            St    0               \n",
       "2     Pacific            Av                    \n",
       "3     Pacific            Av    0               \n",
       "4      Market            St                    \n",
       "\n",
       "                                         description current status  \\\n",
       "0  ground fl facade: to erect illuminated, electr...        expired   \n",
       "1            remove (e) awning and associated signs.         issued   \n",
       "2                    installation of separating wall      withdrawn   \n",
       "3           repair dryrot & stucco at front of bldg.       complete   \n",
       "4  demolish retail/office/commercial 3-story buil...         issued   \n",
       "\n",
       "  current status date  filed date issued date completed date  \\\n",
       "0          12/21/2017  05/06/2015  11/09/2015                  \n",
       "1          08/03/2017  04/19/2016  08/03/2017                  \n",
       "2          09/26/2017  05/27/2016                              \n",
       "3          07/24/2017  11/07/2016  07/18/2017     07/24/2017   \n",
       "4          12/01/2017  11/28/2016  12/01/2017                  \n",
       "\n",
       "  first construction document date structural notification  \\\n",
       "0                       11/09/2015                           \n",
       "1                       08/03/2017                           \n",
       "2                                                            \n",
       "3                       07/18/2017                           \n",
       "4                       11/20/2017                           \n",
       "\n",
       "  number of existing stories number of proposed stories  \\\n",
       "0                          6                              \n",
       "1                          7                              \n",
       "2                          6                          6   \n",
       "3                          2                          2   \n",
       "4                          3                              \n",
       "\n",
       "  voluntary soft-story retrofit fire only permit permit expiration date  \\\n",
       "0                                                            11/03/2016   \n",
       "1                                                            12/03/2017   \n",
       "2                                                                         \n",
       "3                                                            07/13/2018   \n",
       "4                                                            12/01/2018   \n",
       "\n",
       "  estimated cost revised cost         existing use existing units  \\\n",
       "0           4000         4000  tourist hotel/motel            143   \n",
       "1              1          500  tourist hotel/motel                  \n",
       "2          20000                      retail sales             39   \n",
       "3           2000         2000    1 family dwelling              1   \n",
       "4         100000       100000         retail sales                  \n",
       "\n",
       "        proposed use proposed units plansets tidf compliance  \\\n",
       "0                                          2                   \n",
       "1                                          2                   \n",
       "2       retail sales             39        2                   \n",
       "3  1 family dwelling              1        2                   \n",
       "4                                          2                   \n",
       "\n",
       "  existing construction type existing construction type description  \\\n",
       "0                          3                          constr type 3   \n",
       "1                          3                          constr type 3   \n",
       "2                          1                          constr type 1   \n",
       "3                          5                         wood frame (5)   \n",
       "4                          3                          constr type 3   \n",
       "\n",
       "  proposed construction type proposed construction type description  \\\n",
       "0                                                                     \n",
       "1                                                                     \n",
       "2                          1                          constr type 1   \n",
       "3                          5                         wood frame (5)   \n",
       "4                                                                     \n",
       "\n",
       "  site permit supervisor district neighborhoods - analysis boundaries zipcode  \\\n",
       "0                               3                          Tenderloin   94102   \n",
       "1                               3                          Tenderloin   94102   \n",
       "2                               3                        Russian Hill   94109   \n",
       "3                               3                            Nob Hill   94109   \n",
       "4                               6                          Tenderloin   94102   \n",
       "\n",
       "                                    location     record id  \n",
       "0  (37.785719256680785, -122.40852313194863)  1.380610e+12  \n",
       "1   (37.78733980600732, -122.41063199757738)  1.420160e+12  \n",
       "2    (37.7946573324287, -122.42232562979227)  1.424860e+12  \n",
       "3   (37.79595867909168, -122.41557405519474)  1.443570e+12  \n",
       "4   (37.78315261897309, -122.40950883997789)  1.445480e+11  "
      ]
     },
     "execution_count": 10,
     "metadata": {},
     "output_type": "execute_result"
    }
   ],
   "source": [
    "data.head()"
   ]
  },
  {
   "cell_type": "code",
   "execution_count": 11,
   "metadata": {},
   "outputs": [
    {
     "name": "stdout",
     "output_type": "stream",
     "text": [
      "<class 'pandas.core.frame.DataFrame'>\n",
      "RangeIndex: 15364 entries, 0 to 15363\n",
      "Data columns (total 43 columns):\n",
      " #   Column                                  Non-Null Count  Dtype  \n",
      "---  ------                                  --------------  -----  \n",
      " 0   permit number                           15364 non-null  object \n",
      " 1   permit type                             15364 non-null  int64  \n",
      " 2   permit type definition                  15364 non-null  object \n",
      " 3   permit creation date                    15364 non-null  object \n",
      " 4   block                                   15364 non-null  object \n",
      " 5   lot                                     15364 non-null  object \n",
      " 6   street number                           15364 non-null  int64  \n",
      " 7   street number suffix                    15364 non-null  object \n",
      " 8   street name                             15364 non-null  object \n",
      " 9   street suffix                           15364 non-null  object \n",
      " 10  unit                                    15364 non-null  object \n",
      " 11  unit suffix                             15364 non-null  object \n",
      " 12  description                             15364 non-null  object \n",
      " 13  current status                          15364 non-null  object \n",
      " 14  current status date                     15364 non-null  object \n",
      " 15  filed date                              15364 non-null  object \n",
      " 16  issued date                             15364 non-null  object \n",
      " 17  completed date                          15364 non-null  object \n",
      " 18  first construction document date        15364 non-null  object \n",
      " 19  structural notification                 15364 non-null  object \n",
      " 20  number of existing stories              15364 non-null  object \n",
      " 21  number of proposed stories              15364 non-null  object \n",
      " 22  voluntary soft-story retrofit           15364 non-null  object \n",
      " 23  fire only permit                        15364 non-null  object \n",
      " 24  permit expiration date                  15364 non-null  object \n",
      " 25  estimated cost                          15364 non-null  object \n",
      " 26  revised cost                            15364 non-null  object \n",
      " 27  existing use                            15364 non-null  object \n",
      " 28  existing units                          15364 non-null  object \n",
      " 29  proposed use                            15364 non-null  object \n",
      " 30  proposed units                          15364 non-null  object \n",
      " 31  plansets                                15364 non-null  object \n",
      " 32  tidf compliance                         15364 non-null  object \n",
      " 33  existing construction type              15364 non-null  object \n",
      " 34  existing construction type description  15364 non-null  object \n",
      " 35  proposed construction type              15364 non-null  object \n",
      " 36  proposed construction type description  15364 non-null  object \n",
      " 37  site permit                             15364 non-null  object \n",
      " 38  supervisor district                     15364 non-null  object \n",
      " 39  neighborhoods - analysis boundaries     15364 non-null  object \n",
      " 40  zipcode                                 15364 non-null  object \n",
      " 41  location                                15364 non-null  object \n",
      " 42  record id                               15364 non-null  float64\n",
      "dtypes: float64(1), int64(2), object(40)\n",
      "memory usage: 5.0+ MB\n"
     ]
    }
   ],
   "source": [
    "data.info()"
   ]
  },
  {
   "cell_type": "code",
   "execution_count": 12,
   "metadata": {},
   "outputs": [],
   "source": [
    "data = data.replace(\"\", np.nan) #replace empty strings with numpy nan values"
   ]
  },
  {
   "cell_type": "code",
   "execution_count": 13,
   "metadata": {},
   "outputs": [
    {
     "data": {
      "text/plain": [
       "permit number                               0.000000\n",
       "permit type                                 0.000000\n",
       "permit type definition                      0.000000\n",
       "permit creation date                        0.000000\n",
       "block                                       0.000000\n",
       "lot                                         0.000000\n",
       "street number                               0.000000\n",
       "street number suffix                       98.958605\n",
       "street name                                 0.000000\n",
       "street suffix                               1.262692\n",
       "unit                                       86.025775\n",
       "unit suffix                                98.834939\n",
       "description                                 0.162718\n",
       "current status                              0.000000\n",
       "current status date                         0.000000\n",
       "filed date                                  0.000000\n",
       "issued date                                 4.133038\n",
       "completed date                             40.581880\n",
       "first construction document date            4.159073\n",
       "structural notification                    96.953918\n",
       "number of existing stories                 20.756313\n",
       "number of proposed stories                 22.038532\n",
       "voluntary soft-story retrofit              99.928404\n",
       "fire only permit                           90.751106\n",
       "permit expiration date                     22.520177\n",
       "estimated cost                             18.790680\n",
       "revised cost                                1.607654\n",
       "existing use                               20.164020\n",
       "existing units                             25.494663\n",
       "proposed use                               21.693569\n",
       "proposed units                             26.152044\n",
       "plansets                                   18.582400\n",
       "tidf compliance                           100.000000\n",
       "existing construction type                 21.088258\n",
       "existing construction type description     21.088258\n",
       "proposed construction type                 22.240302\n",
       "proposed construction type description     22.240302\n",
       "site permit                                98.073418\n",
       "supervisor district                         0.774538\n",
       "neighborhoods - analysis boundaries         0.774538\n",
       "zipcode                                     0.774538\n",
       "location                                    0.768029\n",
       "record id                                   0.000000\n",
       "dtype: float64"
      ]
     },
     "execution_count": 13,
     "metadata": {},
     "output_type": "execute_result"
    }
   ],
   "source": [
    "(data.isna().sum() / len(data)) * 100"
   ]
  },
  {
   "cell_type": "code",
   "execution_count": 14,
   "metadata": {},
   "outputs": [],
   "source": [
    "# Drop missing data that are over 60%   \n",
    "# https://www.sciencedirect.com/science/article/pii/S0895435618308710#:~:text=Statistical%20guidance%20articles%20have%20stated,18%5D%2C%20%5B19%5D."
   ]
  },
  {
   "cell_type": "code",
   "execution_count": 15,
   "metadata": {},
   "outputs": [],
   "source": [
    "large_missing_dict = ((data.isna().sum() / len(data)) * 100).to_dict()"
   ]
  },
  {
   "cell_type": "code",
   "execution_count": 16,
   "metadata": {},
   "outputs": [],
   "source": [
    "large_missing_cols = [idx for idx in large_missing_dict.keys() if large_missing_dict.get(idx) > 60]"
   ]
  },
  {
   "cell_type": "code",
   "execution_count": 17,
   "metadata": {},
   "outputs": [
    {
     "data": {
      "text/plain": [
       "['street number suffix',\n",
       " 'unit',\n",
       " 'unit suffix',\n",
       " 'structural notification',\n",
       " 'voluntary soft-story retrofit',\n",
       " 'fire only permit',\n",
       " 'tidf compliance',\n",
       " 'site permit']"
      ]
     },
     "execution_count": 17,
     "metadata": {},
     "output_type": "execute_result"
    }
   ],
   "source": [
    "large_missing_cols"
   ]
  },
  {
   "cell_type": "code",
   "execution_count": 18,
   "metadata": {},
   "outputs": [],
   "source": [
    "data = data.drop(columns=large_missing_cols)"
   ]
  },
  {
   "cell_type": "code",
   "execution_count": 19,
   "metadata": {},
   "outputs": [],
   "source": [
    "small_missing_dict = ((data.isna().sum() / len(data)) * 100).to_dict()"
   ]
  },
  {
   "cell_type": "code",
   "execution_count": 20,
   "metadata": {},
   "outputs": [],
   "source": [
    "small_missing_cols = [idx for idx in small_missing_dict.keys() if small_missing_dict.get(idx) > 0]"
   ]
  },
  {
   "cell_type": "code",
   "execution_count": 21,
   "metadata": {},
   "outputs": [
    {
     "name": "stdout",
     "output_type": "stream",
     "text": [
      "<class 'pandas.core.frame.DataFrame'>\n",
      "RangeIndex: 15364 entries, 0 to 15363\n",
      "Data columns (total 23 columns):\n",
      " #   Column                                  Non-Null Count  Dtype  \n",
      "---  ------                                  --------------  -----  \n",
      " 0   street suffix                           15170 non-null  object \n",
      " 1   description                             15339 non-null  object \n",
      " 2   issued date                             14729 non-null  object \n",
      " 3   completed date                          9129 non-null   object \n",
      " 4   first construction document date        14725 non-null  object \n",
      " 5   number of existing stories              12175 non-null  float64\n",
      " 6   number of proposed stories              11978 non-null  float64\n",
      " 7   permit expiration date                  11904 non-null  object \n",
      " 8   estimated cost                          12477 non-null  float64\n",
      " 9   revised cost                            15117 non-null  float64\n",
      " 10  existing use                            12266 non-null  object \n",
      " 11  existing units                          11447 non-null  float64\n",
      " 12  proposed use                            12031 non-null  object \n",
      " 13  proposed units                          11346 non-null  float64\n",
      " 14  plansets                                12509 non-null  float64\n",
      " 15  existing construction type              12124 non-null  float64\n",
      " 16  existing construction type description  12124 non-null  object \n",
      " 17  proposed construction type              11947 non-null  float64\n",
      " 18  proposed construction type description  11947 non-null  object \n",
      " 19  supervisor district                     15245 non-null  float64\n",
      " 20  neighborhoods - analysis boundaries     15245 non-null  object \n",
      " 21  zipcode                                 15245 non-null  float64\n",
      " 22  location                                15246 non-null  object \n",
      "dtypes: float64(11), object(12)\n",
      "memory usage: 2.7+ MB\n"
     ]
    }
   ],
   "source": [
    "data[small_missing_cols].info()"
   ]
  },
  {
   "cell_type": "code",
   "execution_count": 64,
   "metadata": {},
   "outputs": [
    {
     "data": {
      "text/plain": [
       "street suffix                              1.261913\n",
       "description                                0.000000\n",
       "issued date                                4.166941\n",
       "completed date                            40.506080\n",
       "first construction document date           4.193230\n",
       "number of existing stories                20.644101\n",
       "number of proposed stories                21.846862\n",
       "permit expiration date                    22.425238\n",
       "estimated cost                            18.665790\n",
       "revised cost                               1.623398\n",
       "existing use                              20.046007\n",
       "existing units                            25.363128\n",
       "proposed use                              21.498521\n",
       "proposed units                            25.967795\n",
       "plansets                                  18.455472\n",
       "existing construction type                20.979297\n",
       "existing construction type description    20.979297\n",
       "proposed construction type                22.050608\n",
       "proposed construction type description    22.050608\n",
       "supervisor district                        0.000000\n",
       "neighborhoods - analysis boundaries        0.000000\n",
       "zipcode                                    0.000000\n",
       "location                                   0.000000\n",
       "dtype: float64"
      ]
     },
     "execution_count": 64,
     "metadata": {},
     "output_type": "execute_result"
    }
   ],
   "source": [
    "data[small_missing_cols].isna().sum() / len(data) * 100"
   ]
  },
  {
   "cell_type": "code",
   "execution_count": 63,
   "metadata": {},
   "outputs": [
    {
     "name": "stdout",
     "output_type": "stream",
     "text": [
      "<class 'pandas.core.frame.DataFrame'>\n",
      "Index: 15215 entries, 0 to 15363\n",
      "Data columns (total 23 columns):\n",
      " #   Column                                  Non-Null Count  Dtype         \n",
      "---  ------                                  --------------  -----         \n",
      " 0   street suffix                           15023 non-null  object        \n",
      " 1   description                             15215 non-null  object        \n",
      " 2   issued date                             14581 non-null  datetime64[ns]\n",
      " 3   completed date                          9052 non-null   datetime64[ns]\n",
      " 4   first construction document date        14577 non-null  datetime64[ns]\n",
      " 5   number of existing stories              12074 non-null  float64       \n",
      " 6   number of proposed stories              11891 non-null  float64       \n",
      " 7   permit expiration date                  11803 non-null  object        \n",
      " 8   estimated cost                          12375 non-null  float64       \n",
      " 9   revised cost                            14968 non-null  float64       \n",
      " 10  existing use                            12165 non-null  object        \n",
      " 11  existing units                          11356 non-null  float64       \n",
      " 12  proposed use                            11944 non-null  object        \n",
      " 13  proposed units                          11264 non-null  float64       \n",
      " 14  plansets                                12407 non-null  float64       \n",
      " 15  existing construction type              12023 non-null  float64       \n",
      " 16  existing construction type description  12023 non-null  object        \n",
      " 17  proposed construction type              11860 non-null  float64       \n",
      " 18  proposed construction type description  11860 non-null  object        \n",
      " 19  supervisor district                     15215 non-null  float64       \n",
      " 20  neighborhoods - analysis boundaries     15215 non-null  object        \n",
      " 21  zipcode                                 15215 non-null  float64       \n",
      " 22  location                                15215 non-null  object        \n",
      "dtypes: datetime64[ns](3), float64(11), object(9)\n",
      "memory usage: 2.8+ MB\n"
     ]
    }
   ],
   "source": [
    "data[small_missing_cols].info()"
   ]
  },
  {
   "cell_type": "code",
   "execution_count": 23,
   "metadata": {},
   "outputs": [
    {
     "data": {
      "text/plain": [
       "30"
      ]
     },
     "execution_count": 23,
     "metadata": {},
     "output_type": "execute_result"
    }
   ],
   "source": [
    "data.duplicated().sum()"
   ]
  },
  {
   "cell_type": "code",
   "execution_count": 24,
   "metadata": {},
   "outputs": [],
   "source": [
    "data = data.drop_duplicates(keep=\"first\") # drop duplicated data"
   ]
  },
  {
   "cell_type": "markdown",
   "metadata": {},
   "source": [
    "Todo: Convert data to datatime format\n",
    "\n",
    "date col = [\"Issued Date\", \"Completed Date\", \"First Construction Document Date\", \"Permit Expiration Date\"]"
   ]
  },
  {
   "cell_type": "code",
   "execution_count": 59,
   "metadata": {},
   "outputs": [
    {
     "data": {
      "text/plain": [
       "Index(['permit number', 'permit type', 'permit type definition',\n",
       "       'permit creation date', 'block', 'lot', 'street number', 'street name',\n",
       "       'street suffix', 'description', 'current status', 'current status date',\n",
       "       'filed date', 'issued date', 'completed date',\n",
       "       'first construction document date', 'number of existing stories',\n",
       "       'number of proposed stories', 'permit expiration date',\n",
       "       'estimated cost', 'revised cost', 'existing use', 'existing units',\n",
       "       'proposed use', 'proposed units', 'plansets',\n",
       "       'existing construction type', 'existing construction type description',\n",
       "       'proposed construction type', 'proposed construction type description',\n",
       "       'supervisor district', 'neighborhoods - analysis boundaries', 'zipcode',\n",
       "       'location', 'record id'],\n",
       "      dtype='object')"
      ]
     },
     "execution_count": 59,
     "metadata": {},
     "output_type": "execute_result"
    }
   ],
   "source": [
    "data.columns"
   ]
  },
  {
   "cell_type": "code",
   "execution_count": 37,
   "metadata": {},
   "outputs": [
    {
     "data": {
      "text/plain": [
       "zipcode                                119\n",
       "location                               118\n",
       "neighborhoods - analysis boundaries    119\n",
       "dtype: int64"
      ]
     },
     "execution_count": 37,
     "metadata": {},
     "output_type": "execute_result"
    }
   ],
   "source": [
    "data[[\"zipcode\", \"location\", \"neighborhoods - analysis boundaries\"]].isna().sum()\n",
    "# looks like the following columns are correlated and would be best to drop the missing values. Imputing geolocation data might not be a very good idea"
   ]
  },
  {
   "cell_type": "code",
   "execution_count": 39,
   "metadata": {},
   "outputs": [
    {
     "data": {
      "text/plain": [
       "118"
      ]
     },
     "execution_count": 39,
     "metadata": {},
     "output_type": "execute_result"
    }
   ],
   "source": [
    "data['location'].isna().sum()"
   ]
  },
  {
   "cell_type": "code",
   "execution_count": 43,
   "metadata": {},
   "outputs": [
    {
     "data": {
      "text/plain": [
       "(15334, 35)"
      ]
     },
     "execution_count": 43,
     "metadata": {},
     "output_type": "execute_result"
    }
   ],
   "source": [
    "data.shape"
   ]
  },
  {
   "cell_type": "code",
   "execution_count": 52,
   "metadata": {},
   "outputs": [],
   "source": [
    "data = data[(data['location'].notnull()) & (data['zipcode'].notnull()) & (data['neighborhoods - analysis boundaries'].notnull())]"
   ]
  },
  {
   "cell_type": "code",
   "execution_count": 23,
   "metadata": {},
   "outputs": [
    {
     "data": {
      "image/png": "[encoded data removed]",
      "text/plain": [
       "<Figure size 640x480 with 1 Axes>"
      ]
     },
     "metadata": {},
     "output_type": "display_data"
    }
   ],
   "source": [
    "mode_existing_storries = data[small_missing_cols[15]].mode()\n",
    "\n",
    "fig, ax = plt.subplots()\n",
    "sns.distplot(data[small_missing_cols[15]], ax=ax, label=\"green\")\n",
    "sns.distplot(data[small_missing_cols[15]].fillna(mode_existing_storries), ax=ax, label=\"yellow\")\n",
    "plt.show()"
   ]
  },
  {
   "cell_type": "code",
   "execution_count": 58,
   "metadata": {},
   "outputs": [],
   "source": [
    "data[\"issued date\"] = pd.to_datetime(data[\"issued date\"])\n",
    "data[\"completed date\"] = pd.to_datetime(data[\"completed date\"])\n",
    "data[\"first construction document date\"] = pd.to_datetime(data[\"first construction document date\"])\n",
    "data[\"completed date\"] = pd.to_datetime(data[\"completed date\"])"
   ]
  },
  {
   "cell_type": "code",
   "execution_count": 59,
   "metadata": {},
   "outputs": [],
   "source": [
    "data['description'] = data['description'].fillna(\"Unknown\")"
   ]
  },
  {
   "cell_type": "code",
   "execution_count": 67,
   "metadata": {},
   "outputs": [
    {
     "data": {
      "text/plain": [
       "Index(['street suffix', 'description', 'issued date', 'completed date',\n",
       "       'first construction document date', 'number of existing stories',\n",
       "       'number of proposed stories', 'permit expiration date',\n",
       "       'estimated cost', 'revised cost', 'existing use', 'existing units',\n",
       "       'proposed use', 'proposed units', 'plansets',\n",
       "       'existing construction type', 'existing construction type description',\n",
       "       'proposed construction type', 'proposed construction type description',\n",
       "       'supervisor district', 'neighborhoods - analysis boundaries', 'zipcode',\n",
       "       'location'],\n",
       "      dtype='object')"
      ]
     },
     "execution_count": 67,
     "metadata": {},
     "output_type": "execute_result"
    }
   ],
   "source": [
    "data[small_missing_cols].columns"
   ]
  },
  {
   "cell_type": "code",
   "execution_count": 70,
   "metadata": {},
   "outputs": [
    {
     "data": {
      "text/plain": [
       "0        NaN\n",
       "1        NaN\n",
       "2        6.0\n",
       "3        2.0\n",
       "4        NaN\n",
       "        ... \n",
       "15359    2.0\n",
       "15360    2.0\n",
       "15361    2.0\n",
       "15362    2.0\n",
       "15363    NaN\n",
       "Name: number of proposed stories, Length: 15215, dtype: float64"
      ]
     },
     "execution_count": 70,
     "metadata": {},
     "output_type": "execute_result"
    }
   ],
   "source": [
    "data['number of proposed stories']"
   ]
  },
  {
   "cell_type": "code",
   "execution_count": null,
   "metadata": {},
   "outputs": [],
   "source": []
  },
  {
   "cell_type": "code",
   "execution_count": null,
   "metadata": {},
   "outputs": [],
   "source": []
  },
  {
   "cell_type": "code",
   "execution_count": null,
   "metadata": {},
   "outputs": [],
   "source": []
  },
  {
   "cell_type": "code",
   "execution_count": null,
   "metadata": {},
   "outputs": [],
   "source": []
  },
  {
   "cell_type": "code",
   "execution_count": 31,
   "metadata": {},
   "outputs": [],
   "source": [
    "from miceforest import ImputationKernel"
   ]
  },
  {
   "cell_type": "code",
   "execution_count": 65,
   "metadata": {},
   "outputs": [],
   "source": [
    "# mice_kernel = ImputationKernel(data=data, save_all_iterations=True, random_state=42)\n",
    "# mice_kernel.mice(2)"
   ]
  },
  {
   "cell_type": "code",
   "execution_count": null,
   "metadata": {},
   "outputs": [],
   "source": []
  },
  {
   "cell_type": "code",
   "execution_count": null,
   "metadata": {},
   "outputs": [],
   "source": [
    "#imputing\n",
    "\n",
    "impute_data = data.copy()"
   ]
  },
  {
   "cell_type": "code",
   "execution_count": null,
   "metadata": {},
   "outputs": [],
   "source": [
    "impute_col = impute_data.columns[impute_data.isnull().any()]"
   ]
  },
  {
   "cell_type": "code",
   "execution_count": null,
   "metadata": {},
   "outputs": [],
   "source": [
    "# impute_data.loc[impute_data[target].isnull(), col_missing.to_list()]"
   ]
  },
  {
   "cell_type": "code",
   "execution_count": null,
   "metadata": {},
   "outputs": [],
   "source": [
    "from lightgbm import LGBMClassifier"
   ]
  },
  {
   "cell_type": "code",
   "execution_count": null,
   "metadata": {},
   "outputs": [
    {
     "ename": "ValueError",
     "evalue": "pandas dtypes must be int, float or bool.\nFields with bad pandas dtypes: Completed Date: object, Existing Construction Type Description: object, Existing Use: object, First Construction Document Date: object, Issued Date: object, Location: object, Neighborhoods - Analysis Boundaries: object, Permit Expiration Date: object, Proposed Construction Type Description: object, Proposed Use: object",
     "output_type": "error",
     "traceback": [
      "\u001b[0;31m---------------------------------------------------------------------------\u001b[0m",
      "\u001b[0;31mValueError\u001b[0m                                Traceback (most recent call last)",
      "\u001b[1;32m/home/gbotemi/Documents/gbotemi_bolarinwa/gspread-project/missing.ipynb Cell 37\u001b[0m line \u001b[0;36m1\n\u001b[1;32m     <a href='vscode-notebook-cell:/home/gbotemi/Documents/gbotemi_bolarinwa/gspread-project/missing.ipynb#X65sZmlsZQ%3D%3D?line=10'>11</a>\u001b[0m X_missing_data \u001b[39m=\u001b[39m missing_data[col_missing]\n\u001b[1;32m     <a href='vscode-notebook-cell:/home/gbotemi/Documents/gbotemi_bolarinwa/gspread-project/missing.ipynb#X65sZmlsZQ%3D%3D?line=12'>13</a>\u001b[0m regression_model \u001b[39m=\u001b[39m LGBMClassifier()\n\u001b[0;32m---> <a href='vscode-notebook-cell:/home/gbotemi/Documents/gbotemi_bolarinwa/gspread-project/missing.ipynb#X65sZmlsZQ%3D%3D?line=14'>15</a>\u001b[0m regression_model\u001b[39m.\u001b[39;49mfit(X_known_data, y_known_data)\n\u001b[1;32m     <a href='vscode-notebook-cell:/home/gbotemi/Documents/gbotemi_bolarinwa/gspread-project/missing.ipynb#X65sZmlsZQ%3D%3D?line=15'>16</a>\u001b[0m preds \u001b[39m=\u001b[39m regression_model\u001b[39m.\u001b[39mpredict(X_missing_data)\n\u001b[1;32m     <a href='vscode-notebook-cell:/home/gbotemi/Documents/gbotemi_bolarinwa/gspread-project/missing.ipynb#X65sZmlsZQ%3D%3D?line=16'>17</a>\u001b[0m impute_data\u001b[39m.\u001b[39mloc[impute_data[target]\u001b[39m.\u001b[39misnull(), target] \u001b[39m=\u001b[39m preds\n",
      "File \u001b[0;32m~/miniconda3/envs/gspread/lib/python3.12/site-packages/lightgbm/sklearn.py:1142\u001b[0m, in \u001b[0;36mLGBMClassifier.fit\u001b[0;34m(self, X, y, sample_weight, init_score, eval_set, eval_names, eval_sample_weight, eval_class_weight, eval_init_score, eval_metric, feature_name, categorical_feature, callbacks, init_model)\u001b[0m\n\u001b[1;32m   1139\u001b[0m         \u001b[39melse\u001b[39;00m:\n\u001b[1;32m   1140\u001b[0m             valid_sets\u001b[39m.\u001b[39mappend((valid_x, \u001b[39mself\u001b[39m\u001b[39m.\u001b[39m_le\u001b[39m.\u001b[39mtransform(valid_y)))\n\u001b[0;32m-> 1142\u001b[0m \u001b[39msuper\u001b[39;49m()\u001b[39m.\u001b[39;49mfit(\n\u001b[1;32m   1143\u001b[0m     X,\n\u001b[1;32m   1144\u001b[0m     _y,\n\u001b[1;32m   1145\u001b[0m     sample_weight\u001b[39m=\u001b[39;49msample_weight,\n\u001b[1;32m   1146\u001b[0m     init_score\u001b[39m=\u001b[39;49minit_score,\n\u001b[1;32m   1147\u001b[0m     eval_set\u001b[39m=\u001b[39;49mvalid_sets,\n\u001b[1;32m   1148\u001b[0m     eval_names\u001b[39m=\u001b[39;49meval_names,\n\u001b[1;32m   1149\u001b[0m     eval_sample_weight\u001b[39m=\u001b[39;49meval_sample_weight,\n\u001b[1;32m   1150\u001b[0m     eval_class_weight\u001b[39m=\u001b[39;49meval_class_weight,\n\u001b[1;32m   1151\u001b[0m     eval_init_score\u001b[39m=\u001b[39;49meval_init_score,\n\u001b[1;32m   1152\u001b[0m     eval_metric\u001b[39m=\u001b[39;49meval_metric,\n\u001b[1;32m   1153\u001b[0m     feature_name\u001b[39m=\u001b[39;49mfeature_name,\n\u001b[1;32m   1154\u001b[0m     categorical_feature\u001b[39m=\u001b[39;49mcategorical_feature,\n\u001b[1;32m   1155\u001b[0m     callbacks\u001b[39m=\u001b[39;49mcallbacks,\n\u001b[1;32m   1156\u001b[0m     init_model\u001b[39m=\u001b[39;49minit_model\n\u001b[1;32m   1157\u001b[0m )\n\u001b[1;32m   1158\u001b[0m \u001b[39mreturn\u001b[39;00m \u001b[39mself\u001b[39m\n",
      "File \u001b[0;32m~/miniconda3/envs/gspread/lib/python3.12/site-packages/lightgbm/sklearn.py:842\u001b[0m, in \u001b[0;36mLGBMModel.fit\u001b[0;34m(self, X, y, sample_weight, init_score, group, eval_set, eval_names, eval_sample_weight, eval_class_weight, eval_init_score, eval_group, eval_metric, feature_name, categorical_feature, callbacks, init_model)\u001b[0m\n\u001b[1;32m    839\u001b[0m evals_result: _EvalResultDict \u001b[39m=\u001b[39m {}\n\u001b[1;32m    840\u001b[0m callbacks\u001b[39m.\u001b[39mappend(record_evaluation(evals_result))\n\u001b[0;32m--> 842\u001b[0m \u001b[39mself\u001b[39m\u001b[39m.\u001b[39m_Booster \u001b[39m=\u001b[39m train(\n\u001b[1;32m    843\u001b[0m     params\u001b[39m=\u001b[39;49mparams,\n\u001b[1;32m    844\u001b[0m     train_set\u001b[39m=\u001b[39;49mtrain_set,\n\u001b[1;32m    845\u001b[0m     num_boost_round\u001b[39m=\u001b[39;49m\u001b[39mself\u001b[39;49m\u001b[39m.\u001b[39;49mn_estimators,\n\u001b[1;32m    846\u001b[0m     valid_sets\u001b[39m=\u001b[39;49mvalid_sets,\n\u001b[1;32m    847\u001b[0m     valid_names\u001b[39m=\u001b[39;49meval_names,\n\u001b[1;32m    848\u001b[0m     feval\u001b[39m=\u001b[39;49meval_metrics_callable,  \u001b[39m# type: ignore[arg-type]\u001b[39;49;00m\n\u001b[1;32m    849\u001b[0m     init_model\u001b[39m=\u001b[39;49minit_model,\n\u001b[1;32m    850\u001b[0m     feature_name\u001b[39m=\u001b[39;49mfeature_name,\n\u001b[1;32m    851\u001b[0m     callbacks\u001b[39m=\u001b[39;49mcallbacks\n\u001b[1;32m    852\u001b[0m )\n\u001b[1;32m    854\u001b[0m \u001b[39mself\u001b[39m\u001b[39m.\u001b[39m_evals_result \u001b[39m=\u001b[39m evals_result\n\u001b[1;32m    855\u001b[0m \u001b[39mself\u001b[39m\u001b[39m.\u001b[39m_best_iteration \u001b[39m=\u001b[39m \u001b[39mself\u001b[39m\u001b[39m.\u001b[39m_Booster\u001b[39m.\u001b[39mbest_iteration\n",
      "File \u001b[0;32m~/miniconda3/envs/gspread/lib/python3.12/site-packages/lightgbm/engine.py:255\u001b[0m, in \u001b[0;36mtrain\u001b[0;34m(params, train_set, num_boost_round, valid_sets, valid_names, feval, init_model, feature_name, categorical_feature, keep_training_booster, callbacks)\u001b[0m\n\u001b[1;32m    253\u001b[0m \u001b[39m# construct booster\u001b[39;00m\n\u001b[1;32m    254\u001b[0m \u001b[39mtry\u001b[39;00m:\n\u001b[0;32m--> 255\u001b[0m     booster \u001b[39m=\u001b[39m Booster(params\u001b[39m=\u001b[39;49mparams, train_set\u001b[39m=\u001b[39;49mtrain_set)\n\u001b[1;32m    256\u001b[0m     \u001b[39mif\u001b[39;00m is_valid_contain_train:\n\u001b[1;32m    257\u001b[0m         booster\u001b[39m.\u001b[39mset_train_data_name(train_data_name)\n",
      "File \u001b[0;32m~/miniconda3/envs/gspread/lib/python3.12/site-packages/lightgbm/basic.py:3200\u001b[0m, in \u001b[0;36mBooster.__init__\u001b[0;34m(self, params, train_set, model_file, model_str)\u001b[0m\n\u001b[1;32m   3193\u001b[0m     \u001b[39mself\u001b[39m\u001b[39m.\u001b[39mset_network(\n\u001b[1;32m   3194\u001b[0m         machines\u001b[39m=\u001b[39mmachines,\n\u001b[1;32m   3195\u001b[0m         local_listen_port\u001b[39m=\u001b[39mparams[\u001b[39m\"\u001b[39m\u001b[39mlocal_listen_port\u001b[39m\u001b[39m\"\u001b[39m],\n\u001b[1;32m   3196\u001b[0m         listen_time_out\u001b[39m=\u001b[39mparams\u001b[39m.\u001b[39mget(\u001b[39m\"\u001b[39m\u001b[39mtime_out\u001b[39m\u001b[39m\"\u001b[39m, \u001b[39m120\u001b[39m),\n\u001b[1;32m   3197\u001b[0m         num_machines\u001b[39m=\u001b[39mparams[\u001b[39m\"\u001b[39m\u001b[39mnum_machines\u001b[39m\u001b[39m\"\u001b[39m]\n\u001b[1;32m   3198\u001b[0m     )\n\u001b[1;32m   3199\u001b[0m \u001b[39m# construct booster object\u001b[39;00m\n\u001b[0;32m-> 3200\u001b[0m train_set\u001b[39m.\u001b[39;49mconstruct()\n\u001b[1;32m   3201\u001b[0m \u001b[39m# copy the parameters from train_set\u001b[39;00m\n\u001b[1;32m   3202\u001b[0m params\u001b[39m.\u001b[39mupdate(train_set\u001b[39m.\u001b[39mget_params())\n",
      "File \u001b[0;32m~/miniconda3/envs/gspread/lib/python3.12/site-packages/lightgbm/basic.py:2276\u001b[0m, in \u001b[0;36mDataset.construct\u001b[0;34m(self)\u001b[0m\n\u001b[1;32m   2269\u001b[0m             \u001b[39mself\u001b[39m\u001b[39m.\u001b[39m_set_init_score_by_predictor(\n\u001b[1;32m   2270\u001b[0m                 predictor\u001b[39m=\u001b[39m\u001b[39mself\u001b[39m\u001b[39m.\u001b[39m_predictor,\n\u001b[1;32m   2271\u001b[0m                 data\u001b[39m=\u001b[39m\u001b[39mself\u001b[39m\u001b[39m.\u001b[39mdata,\n\u001b[1;32m   2272\u001b[0m                 used_indices\u001b[39m=\u001b[39mused_indices\n\u001b[1;32m   2273\u001b[0m             )\n\u001b[1;32m   2274\u001b[0m \u001b[39melse\u001b[39;00m:\n\u001b[1;32m   2275\u001b[0m     \u001b[39m# create train\u001b[39;00m\n\u001b[0;32m-> 2276\u001b[0m     \u001b[39mself\u001b[39;49m\u001b[39m.\u001b[39;49m_lazy_init(data\u001b[39m=\u001b[39;49m\u001b[39mself\u001b[39;49m\u001b[39m.\u001b[39;49mdata, label\u001b[39m=\u001b[39;49m\u001b[39mself\u001b[39;49m\u001b[39m.\u001b[39;49mlabel, reference\u001b[39m=\u001b[39;49m\u001b[39mNone\u001b[39;49;00m,\n\u001b[1;32m   2277\u001b[0m                     weight\u001b[39m=\u001b[39;49m\u001b[39mself\u001b[39;49m\u001b[39m.\u001b[39;49mweight, group\u001b[39m=\u001b[39;49m\u001b[39mself\u001b[39;49m\u001b[39m.\u001b[39;49mgroup,\n\u001b[1;32m   2278\u001b[0m                     init_score\u001b[39m=\u001b[39;49m\u001b[39mself\u001b[39;49m\u001b[39m.\u001b[39;49minit_score, predictor\u001b[39m=\u001b[39;49m\u001b[39mself\u001b[39;49m\u001b[39m.\u001b[39;49m_predictor,\n\u001b[1;32m   2279\u001b[0m                     feature_name\u001b[39m=\u001b[39;49m\u001b[39mself\u001b[39;49m\u001b[39m.\u001b[39;49mfeature_name, categorical_feature\u001b[39m=\u001b[39;49m\u001b[39mself\u001b[39;49m\u001b[39m.\u001b[39;49mcategorical_feature,\n\u001b[1;32m   2280\u001b[0m                     params\u001b[39m=\u001b[39;49m\u001b[39mself\u001b[39;49m\u001b[39m.\u001b[39;49mparams, position\u001b[39m=\u001b[39;49m\u001b[39mself\u001b[39;49m\u001b[39m.\u001b[39;49mposition)\n\u001b[1;32m   2281\u001b[0m \u001b[39mif\u001b[39;00m \u001b[39mself\u001b[39m\u001b[39m.\u001b[39mfree_raw_data:\n\u001b[1;32m   2282\u001b[0m     \u001b[39mself\u001b[39m\u001b[39m.\u001b[39mdata \u001b[39m=\u001b[39m \u001b[39mNone\u001b[39;00m\n",
      "File \u001b[0;32m~/miniconda3/envs/gspread/lib/python3.12/site-packages/lightgbm/basic.py:1861\u001b[0m, in \u001b[0;36mDataset._lazy_init\u001b[0;34m(self, data, label, reference, weight, group, init_score, predictor, feature_name, categorical_feature, params, position)\u001b[0m\n\u001b[1;32m   1859\u001b[0m     categorical_feature \u001b[39m=\u001b[39m reference\u001b[39m.\u001b[39mcategorical_feature\n\u001b[1;32m   1860\u001b[0m \u001b[39mif\u001b[39;00m \u001b[39misinstance\u001b[39m(data, pd_DataFrame):\n\u001b[0;32m-> 1861\u001b[0m     data, feature_name, categorical_feature, \u001b[39mself\u001b[39m\u001b[39m.\u001b[39mpandas_categorical \u001b[39m=\u001b[39m _data_from_pandas(\n\u001b[1;32m   1862\u001b[0m         data\u001b[39m=\u001b[39;49mdata,\n\u001b[1;32m   1863\u001b[0m         feature_name\u001b[39m=\u001b[39;49mfeature_name,\n\u001b[1;32m   1864\u001b[0m         categorical_feature\u001b[39m=\u001b[39;49mcategorical_feature,\n\u001b[1;32m   1865\u001b[0m         pandas_categorical\u001b[39m=\u001b[39;49m\u001b[39mself\u001b[39;49m\u001b[39m.\u001b[39;49mpandas_categorical\n\u001b[1;32m   1866\u001b[0m     )\n\u001b[1;32m   1868\u001b[0m \u001b[39m# process for args\u001b[39;00m\n\u001b[1;32m   1869\u001b[0m params \u001b[39m=\u001b[39m {} \u001b[39mif\u001b[39;00m params \u001b[39mis\u001b[39;00m \u001b[39mNone\u001b[39;00m \u001b[39melse\u001b[39;00m params\n",
      "File \u001b[0;32m~/miniconda3/envs/gspread/lib/python3.12/site-packages/lightgbm/basic.py:703\u001b[0m, in \u001b[0;36m_data_from_pandas\u001b[0;34m(data, feature_name, categorical_feature, pandas_categorical)\u001b[0m\n\u001b[1;32m    700\u001b[0m     categorical_feature \u001b[39m=\u001b[39m \u001b[39mlist\u001b[39m(categorical_feature)  \u001b[39m# type: ignore[assignment]\u001b[39;00m\n\u001b[1;32m    702\u001b[0m \u001b[39m# get numpy representation of the data\u001b[39;00m\n\u001b[0;32m--> 703\u001b[0m _check_for_bad_pandas_dtypes(data\u001b[39m.\u001b[39;49mdtypes)\n\u001b[1;32m    704\u001b[0m df_dtypes \u001b[39m=\u001b[39m [dtype\u001b[39m.\u001b[39mtype \u001b[39mfor\u001b[39;00m dtype \u001b[39min\u001b[39;00m data\u001b[39m.\u001b[39mdtypes]\n\u001b[1;32m    705\u001b[0m df_dtypes\u001b[39m.\u001b[39mappend(np\u001b[39m.\u001b[39mfloat32)  \u001b[39m# so that the target dtype considers floats\u001b[39;00m\n",
      "File \u001b[0;32m~/miniconda3/envs/gspread/lib/python3.12/site-packages/lightgbm/basic.py:666\u001b[0m, in \u001b[0;36m_check_for_bad_pandas_dtypes\u001b[0;34m(pandas_dtypes_series)\u001b[0m\n\u001b[1;32m    660\u001b[0m bad_pandas_dtypes \u001b[39m=\u001b[39m [\n\u001b[1;32m    661\u001b[0m     \u001b[39mf\u001b[39m\u001b[39m'\u001b[39m\u001b[39m{\u001b[39;00mcolumn_name\u001b[39m}\u001b[39;00m\u001b[39m: \u001b[39m\u001b[39m{\u001b[39;00mpandas_dtype\u001b[39m}\u001b[39;00m\u001b[39m'\u001b[39m\n\u001b[1;32m    662\u001b[0m     \u001b[39mfor\u001b[39;00m column_name, pandas_dtype \u001b[39min\u001b[39;00m pandas_dtypes_series\u001b[39m.\u001b[39mitems()\n\u001b[1;32m    663\u001b[0m     \u001b[39mif\u001b[39;00m \u001b[39mnot\u001b[39;00m _is_allowed_numpy_dtype(pandas_dtype\u001b[39m.\u001b[39mtype)\n\u001b[1;32m    664\u001b[0m ]\n\u001b[1;32m    665\u001b[0m \u001b[39mif\u001b[39;00m bad_pandas_dtypes:\n\u001b[0;32m--> 666\u001b[0m     \u001b[39mraise\u001b[39;00m \u001b[39mValueError\u001b[39;00m(\u001b[39m'\u001b[39m\u001b[39mpandas dtypes must be int, float or bool.\u001b[39m\u001b[39m\\n\u001b[39;00m\u001b[39m'\u001b[39m\n\u001b[1;32m    667\u001b[0m                      \u001b[39mf\u001b[39m\u001b[39m'\u001b[39m\u001b[39mFields with bad pandas dtypes: \u001b[39m\u001b[39m{\u001b[39;00m\u001b[39m\"\u001b[39m\u001b[39m, \u001b[39m\u001b[39m\"\u001b[39m\u001b[39m.\u001b[39mjoin(bad_pandas_dtypes)\u001b[39m}\u001b[39;00m\u001b[39m'\u001b[39m)\n",
      "\u001b[0;31mValueError\u001b[0m: pandas dtypes must be int, float or bool.\nFields with bad pandas dtypes: Completed Date: object, Existing Construction Type Description: object, Existing Use: object, First Construction Document Date: object, Issued Date: object, Location: object, Neighborhoods - Analysis Boundaries: object, Permit Expiration Date: object, Proposed Construction Type Description: object, Proposed Use: object"
     ]
    }
   ],
   "source": [
    "for target in impute_col:\n",
    "\n",
    "    col_missing = impute_data[impute_col].columns.difference([target])\n",
    "    \n",
    "    known_data = impute_data.loc[impute_data[target].notnull(), col_missing.to_list() + [target]]\n",
    "    missing_data = impute_data.loc[impute_data[target].isnull(), col_missing.to_list()]\n",
    "    # print(missing_data.head())\n",
    "\n",
    "    X_known_data = known_data[col_missing]\n",
    "    y_known_data = known_data[target]\n",
    "    X_missing_data = missing_data[col_missing]\n",
    "\n",
    "    regression_model = LGBMClassifier()\n",
    "\n",
    "    regression_model.fit(X_known_data, y_known_data)\n",
    "    preds = regression_model.predict(X_missing_data)\n",
    "    impute_data.loc[impute_data[target].isnull(), target] = preds\n",
    "    # print(col_missing.to_list() + [target])"
   ]
  }
 ],
 "metadata": {
  "kernelspec": {
   "display_name": "gspread",
   "language": "python",
   "name": "python3"
  },
  "language_info": {
   "codemirror_mode": {
    "name": "ipython",
    "version": 3
   },
   "file_extension": ".py",
   "mimetype": "text/x-python",
   "name": "python",
   "nbconvert_exporter": "python",
   "pygments_lexer": "ipython3",
   "version": "3.12.0"
  }
 },
 "nbformat": 4,
 "nbformat_minor": 2
}
