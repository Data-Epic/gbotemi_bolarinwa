{
 "cells": [
  {
   "cell_type": "code",
   "execution_count": 7,
   "metadata": {},
   "outputs": [],
   "source": [
    "import gspread\n",
    "import pandas as pd"
   ]
  },
  {
   "cell_type": "code",
   "execution_count": 8,
   "metadata": {},
   "outputs": [],
   "source": [
    "def service_file(file_path: str) -> None:\n",
    "    gc = gspread.service_account(filename=file_path)\n",
    "    print(\"service file loaded successfully\")\n",
    "\n",
    "def create_spreadsheet(sheet_title: str) -> None:\n",
    "    \"\"\"\n",
    "    this function create a new spreadsheet\n",
    "    \"\"\"\n",
    "    sh = gc.create(sheet_title)\n",
    "    print(\"google sheet created succesfully\")\n",
    "\n",
    "def add_email(user_mail: str) -> None:\n",
    "    \"\"\"\n",
    "    this function add user_email as a writer to the spreadsheet\n",
    "    \"\"\"\n",
    "    sh.share(email, perm_type='user', role='writer')\n",
    "    print(\"email added successfully\")\n",
    "\n",
    "def create_worksheet(title: str) -> None:\n",
    "    worksheet = sh.add_worksheet(title=\"first\", rows=100, cols=20)\n",
    "\n",
    "def load_file_into_dataframe(link_to_dataset: str) -> None:\n",
    "    df = pd.read_csv(file)\n",
    "    df.dropna(inplace=True)\n",
    "\n",
    "def update_worksheet(df: pd.DataFrame) -> None:\n",
    "    worksheet.update([df.columns.values.tolist()] + df.values.tolist())\n",
    "\n",
    "if __name__==\"__main__\":\n",
    "    email = \"gbotemibolarinwa@gmail.com\"\n",
    "    file = \"https://github.com/GbotemiB/MLOps_zoomcamp/raw/main/data/Housing_dataset_train.csv\"\n",
    "    filepath = \"./service_account.json\""
   ]
  },
  {
   "cell_type": "code",
   "execution_count": 12,
   "metadata": {},
   "outputs": [],
   "source": [
    "file_path = \"./service_account.json\""
   ]
  },
  {
   "cell_type": "code",
   "execution_count": 13,
   "metadata": {},
   "outputs": [],
   "source": [
    "gc = gspread.service_account(filename=file_path)"
   ]
  },
  {
   "cell_type": "code",
   "execution_count": 16,
   "metadata": {},
   "outputs": [],
   "source": [
    "sh = gc.create(\"asas\")"
   ]
  },
  {
   "cell_type": "code",
   "execution_count": 18,
   "metadata": {},
   "outputs": [
    {
     "data": {
      "text/plain": [
       "<Worksheet 'first' id:290555578>"
      ]
     },
     "execution_count": 18,
     "metadata": {},
     "output_type": "execute_result"
    }
   ],
   "source": [
    "sh.add_worksheet(title=\"first\", rows=100, cols=20)"
   ]
  },
  {
   "cell_type": "code",
   "execution_count": 19,
   "metadata": {},
   "outputs": [
    {
     "data": {
      "text/plain": [
       "gspread.spreadsheet.Spreadsheet"
      ]
     },
     "execution_count": 19,
     "metadata": {},
     "output_type": "execute_result"
    }
   ],
   "source": [
    "type(sh)"
   ]
  }
 ],
 "metadata": {
  "kernelspec": {
   "display_name": "gspread",
   "language": "python",
   "name": "python3"
  },
  "language_info": {
   "codemirror_mode": {
    "name": "ipython",
    "version": 3
   },
   "file_extension": ".py",
   "mimetype": "text/x-python",
   "name": "python",
   "nbconvert_exporter": "python",
   "pygments_lexer": "ipython3",
   "version": "3.12.0"
  }
 },
 "nbformat": 4,
 "nbformat_minor": 2
}
