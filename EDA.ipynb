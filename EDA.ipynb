{
 "cells": [
  {
   "cell_type": "code",
   "execution_count": 40,
   "metadata": {},
   "outputs": [],
   "source": [
    "import polars as pl\n"
   ]
  },
  {
   "cell_type": "code",
   "execution_count": 41,
   "metadata": {},
   "outputs": [],
   "source": [
    "airlines_path = \"data/airlines.csv\"\n",
    "airports_path = \"data/airports.csv\"\n",
    "flights_path = \"data/flights.csv\""
   ]
  },
  {
   "cell_type": "code",
   "execution_count": 128,
   "metadata": {},
   "outputs": [],
   "source": [
    "airlines = pl.read_csv(airlines_path)\n",
    "airports = pl.read_csv(airports_path)\n",
    "flights = pl.read_csv(flights_path)"
   ]
  },
  {
   "cell_type": "code",
   "execution_count": 43,
   "metadata": {},
   "outputs": [
    {
     "data": {
      "text/html": [
       "<div><style>\n",
       ".dataframe > thead > tr,\n",
       ".dataframe > tbody > tr {\n",
       "  text-align: right;\n",
       "  white-space: pre-wrap;\n",
       "}\n",
       "</style>\n",
       "<small>shape: (5, 2)</small><table border=\"1\" class=\"dataframe\"><thead><tr><th>IATA_CODE</th><th>AIRLINE</th></tr><tr><td>str</td><td>str</td></tr></thead><tbody><tr><td>&quot;UA&quot;</td><td>&quot;United Air Lin…</td></tr><tr><td>&quot;AA&quot;</td><td>&quot;American Airli…</td></tr><tr><td>&quot;US&quot;</td><td>&quot;US Airways Inc…</td></tr><tr><td>&quot;F9&quot;</td><td>&quot;Frontier Airli…</td></tr><tr><td>&quot;B6&quot;</td><td>&quot;JetBlue Airway…</td></tr></tbody></table></div>"
      ],
      "text/plain": [
       "shape: (5, 2)\n",
       "┌───────────┬────────────────────────┐\n",
       "│ IATA_CODE ┆ AIRLINE                │\n",
       "│ ---       ┆ ---                    │\n",
       "│ str       ┆ str                    │\n",
       "╞═══════════╪════════════════════════╡\n",
       "│ UA        ┆ United Air Lines Inc.  │\n",
       "│ AA        ┆ American Airlines Inc. │\n",
       "│ US        ┆ US Airways Inc.        │\n",
       "│ F9        ┆ Frontier Airlines Inc. │\n",
       "│ B6        ┆ JetBlue Airways        │\n",
       "└───────────┴────────────────────────┘"
      ]
     },
     "execution_count": 43,
     "metadata": {},
     "output_type": "execute_result"
    }
   ],
   "source": [
    "airlines.head()"
   ]
  },
  {
   "cell_type": "code",
   "execution_count": 44,
   "metadata": {},
   "outputs": [
    {
     "data": {
      "text/html": [
       "<div><style>\n",
       ".dataframe > thead > tr,\n",
       ".dataframe > tbody > tr {\n",
       "  text-align: right;\n",
       "  white-space: pre-wrap;\n",
       "}\n",
       "</style>\n",
       "<small>shape: (5, 7)</small><table border=\"1\" class=\"dataframe\"><thead><tr><th>IATA_CODE</th><th>AIRPORT</th><th>CITY</th><th>STATE</th><th>COUNTRY</th><th>LATITUDE</th><th>LONGITUDE</th></tr><tr><td>str</td><td>str</td><td>str</td><td>str</td><td>str</td><td>f64</td><td>f64</td></tr></thead><tbody><tr><td>&quot;ABE&quot;</td><td>&quot;Lehigh Valley …</td><td>&quot;Allentown&quot;</td><td>&quot;PA&quot;</td><td>&quot;USA&quot;</td><td>40.65236</td><td>-75.4404</td></tr><tr><td>&quot;ABI&quot;</td><td>&quot;Abilene Region…</td><td>&quot;Abilene&quot;</td><td>&quot;TX&quot;</td><td>&quot;USA&quot;</td><td>32.41132</td><td>-99.6819</td></tr><tr><td>&quot;ABQ&quot;</td><td>&quot;Albuquerque In…</td><td>&quot;Albuquerque&quot;</td><td>&quot;NM&quot;</td><td>&quot;USA&quot;</td><td>35.04022</td><td>-106.60919</td></tr><tr><td>&quot;ABR&quot;</td><td>&quot;Aberdeen Regio…</td><td>&quot;Aberdeen&quot;</td><td>&quot;SD&quot;</td><td>&quot;USA&quot;</td><td>45.44906</td><td>-98.42183</td></tr><tr><td>&quot;ABY&quot;</td><td>&quot;Southwest Geor…</td><td>&quot;Albany&quot;</td><td>&quot;GA&quot;</td><td>&quot;USA&quot;</td><td>31.53552</td><td>-84.19447</td></tr></tbody></table></div>"
      ],
      "text/plain": [
       "shape: (5, 7)\n",
       "┌───────────┬───────────────────────────────────┬─────────────┬───────┬─────────┬──────────┬────────────┐\n",
       "│ IATA_CODE ┆ AIRPORT                           ┆ CITY        ┆ STATE ┆ COUNTRY ┆ LATITUDE ┆ LONGITUDE  │\n",
       "│ ---       ┆ ---                               ┆ ---         ┆ ---   ┆ ---     ┆ ---      ┆ ---        │\n",
       "│ str       ┆ str                               ┆ str         ┆ str   ┆ str     ┆ f64      ┆ f64        │\n",
       "╞═══════════╪═══════════════════════════════════╪═════════════╪═══════╪═════════╪══════════╪════════════╡\n",
       "│ ABE       ┆ Lehigh Valley International Airp… ┆ Allentown   ┆ PA    ┆ USA     ┆ 40.65236 ┆ -75.4404   │\n",
       "│ ABI       ┆ Abilene Regional Airport          ┆ Abilene     ┆ TX    ┆ USA     ┆ 32.41132 ┆ -99.6819   │\n",
       "│ ABQ       ┆ Albuquerque International Sunpor… ┆ Albuquerque ┆ NM    ┆ USA     ┆ 35.04022 ┆ -106.60919 │\n",
       "│ ABR       ┆ Aberdeen Regional Airport         ┆ Aberdeen    ┆ SD    ┆ USA     ┆ 45.44906 ┆ -98.42183  │\n",
       "│ ABY       ┆ Southwest Georgia Regional Airpo… ┆ Albany      ┆ GA    ┆ USA     ┆ 31.53552 ┆ -84.19447  │\n",
       "└───────────┴───────────────────────────────────┴─────────────┴───────┴─────────┴──────────┴────────────┘"
      ]
     },
     "execution_count": 44,
     "metadata": {},
     "output_type": "execute_result"
    }
   ],
   "source": [
    "airports.head()"
   ]
  },
  {
   "cell_type": "code",
   "execution_count": 45,
   "metadata": {},
   "outputs": [
    {
     "data": {
      "text/html": [
       "<div><style>\n",
       ".dataframe > thead > tr,\n",
       ".dataframe > tbody > tr {\n",
       "  text-align: right;\n",
       "  white-space: pre-wrap;\n",
       "}\n",
       "</style>\n",
       "<small>shape: (5, 31)</small><table border=\"1\" class=\"dataframe\"><thead><tr><th>YEAR</th><th>MONTH</th><th>DAY</th><th>DAY_OF_WEEK</th><th>AIRLINE</th><th>FLIGHT_NUMBER</th><th>TAIL_NUMBER</th><th>ORIGIN_AIRPORT</th><th>DESTINATION_AIRPORT</th><th>SCHEDULED_DEPARTURE</th><th>DEPARTURE_TIME</th><th>DEPARTURE_DELAY</th><th>TAXI_OUT</th><th>WHEELS_OFF</th><th>SCHEDULED_TIME</th><th>ELAPSED_TIME</th><th>AIR_TIME</th><th>DISTANCE</th><th>WHEELS_ON</th><th>TAXI_IN</th><th>SCHEDULED_ARRIVAL</th><th>ARRIVAL_TIME</th><th>ARRIVAL_DELAY</th><th>DIVERTED</th><th>CANCELLED</th><th>CANCELLATION_REASON</th><th>AIR_SYSTEM_DELAY</th><th>SECURITY_DELAY</th><th>AIRLINE_DELAY</th><th>LATE_AIRCRAFT_DELAY</th><th>WEATHER_DELAY</th></tr><tr><td>i64</td><td>i64</td><td>i64</td><td>i64</td><td>str</td><td>i64</td><td>str</td><td>str</td><td>str</td><td>i64</td><td>i64</td><td>i64</td><td>i64</td><td>i64</td><td>i64</td><td>i64</td><td>i64</td><td>i64</td><td>i64</td><td>i64</td><td>i64</td><td>i64</td><td>i64</td><td>i64</td><td>i64</td><td>str</td><td>i64</td><td>i64</td><td>i64</td><td>i64</td><td>i64</td></tr></thead><tbody><tr><td>2015</td><td>1</td><td>1</td><td>4</td><td>&quot;AS&quot;</td><td>98</td><td>&quot;N407AS&quot;</td><td>&quot;ANC&quot;</td><td>&quot;SEA&quot;</td><td>5</td><td>2354</td><td>-11</td><td>21</td><td>15</td><td>205</td><td>194</td><td>169</td><td>1448</td><td>404</td><td>4</td><td>430</td><td>408</td><td>-22</td><td>0</td><td>0</td><td>null</td><td>null</td><td>null</td><td>null</td><td>null</td><td>null</td></tr><tr><td>2015</td><td>1</td><td>1</td><td>4</td><td>&quot;AA&quot;</td><td>2336</td><td>&quot;N3KUAA&quot;</td><td>&quot;LAX&quot;</td><td>&quot;PBI&quot;</td><td>10</td><td>2</td><td>-8</td><td>12</td><td>14</td><td>280</td><td>279</td><td>263</td><td>2330</td><td>737</td><td>4</td><td>750</td><td>741</td><td>-9</td><td>0</td><td>0</td><td>null</td><td>null</td><td>null</td><td>null</td><td>null</td><td>null</td></tr><tr><td>2015</td><td>1</td><td>1</td><td>4</td><td>&quot;US&quot;</td><td>840</td><td>&quot;N171US&quot;</td><td>&quot;SFO&quot;</td><td>&quot;CLT&quot;</td><td>20</td><td>18</td><td>-2</td><td>16</td><td>34</td><td>286</td><td>293</td><td>266</td><td>2296</td><td>800</td><td>11</td><td>806</td><td>811</td><td>5</td><td>0</td><td>0</td><td>null</td><td>null</td><td>null</td><td>null</td><td>null</td><td>null</td></tr><tr><td>2015</td><td>1</td><td>1</td><td>4</td><td>&quot;AA&quot;</td><td>258</td><td>&quot;N3HYAA&quot;</td><td>&quot;LAX&quot;</td><td>&quot;MIA&quot;</td><td>20</td><td>15</td><td>-5</td><td>15</td><td>30</td><td>285</td><td>281</td><td>258</td><td>2342</td><td>748</td><td>8</td><td>805</td><td>756</td><td>-9</td><td>0</td><td>0</td><td>null</td><td>null</td><td>null</td><td>null</td><td>null</td><td>null</td></tr><tr><td>2015</td><td>1</td><td>1</td><td>4</td><td>&quot;AS&quot;</td><td>135</td><td>&quot;N527AS&quot;</td><td>&quot;SEA&quot;</td><td>&quot;ANC&quot;</td><td>25</td><td>24</td><td>-1</td><td>11</td><td>35</td><td>235</td><td>215</td><td>199</td><td>1448</td><td>254</td><td>5</td><td>320</td><td>259</td><td>-21</td><td>0</td><td>0</td><td>null</td><td>null</td><td>null</td><td>null</td><td>null</td><td>null</td></tr></tbody></table></div>"
      ],
      "text/plain": [
       "shape: (5, 31)\n",
       "┌──────┬───────┬─────┬─────────────┬───┬────────────────┬───────────────┬─────────────────────┬───────────────┐\n",
       "│ YEAR ┆ MONTH ┆ DAY ┆ DAY_OF_WEEK ┆ … ┆ SECURITY_DELAY ┆ AIRLINE_DELAY ┆ LATE_AIRCRAFT_DELAY ┆ WEATHER_DELAY │\n",
       "│ ---  ┆ ---   ┆ --- ┆ ---         ┆   ┆ ---            ┆ ---           ┆ ---                 ┆ ---           │\n",
       "│ i64  ┆ i64   ┆ i64 ┆ i64         ┆   ┆ i64            ┆ i64           ┆ i64                 ┆ i64           │\n",
       "╞══════╪═══════╪═════╪═════════════╪═══╪════════════════╪═══════════════╪═════════════════════╪═══════════════╡\n",
       "│ 2015 ┆ 1     ┆ 1   ┆ 4           ┆ … ┆ null           ┆ null          ┆ null                ┆ null          │\n",
       "│ 2015 ┆ 1     ┆ 1   ┆ 4           ┆ … ┆ null           ┆ null          ┆ null                ┆ null          │\n",
       "│ 2015 ┆ 1     ┆ 1   ┆ 4           ┆ … ┆ null           ┆ null          ┆ null                ┆ null          │\n",
       "│ 2015 ┆ 1     ┆ 1   ┆ 4           ┆ … ┆ null           ┆ null          ┆ null                ┆ null          │\n",
       "│ 2015 ┆ 1     ┆ 1   ┆ 4           ┆ … ┆ null           ┆ null          ┆ null                ┆ null          │\n",
       "└──────┴───────┴─────┴─────────────┴───┴────────────────┴───────────────┴─────────────────────┴───────────────┘"
      ]
     },
     "execution_count": 45,
     "metadata": {},
     "output_type": "execute_result"
    }
   ],
   "source": [
    "flights.head()"
   ]
  },
  {
   "cell_type": "code",
   "execution_count": 54,
   "metadata": {},
   "outputs": [
    {
     "data": {
      "text/html": [
       "<div><style>\n",
       ".dataframe > thead > tr,\n",
       ".dataframe > tbody > tr {\n",
       "  text-align: right;\n",
       "  white-space: pre-wrap;\n",
       "}\n",
       "</style>\n",
       "<small>shape: (9, 3)</small><table border=\"1\" class=\"dataframe\"><thead><tr><th>describe</th><th>IATA_CODE</th><th>AIRLINE</th></tr><tr><td>str</td><td>str</td><td>str</td></tr></thead><tbody><tr><td>&quot;count&quot;</td><td>&quot;14&quot;</td><td>&quot;14&quot;</td></tr><tr><td>&quot;null_count&quot;</td><td>&quot;0&quot;</td><td>&quot;0&quot;</td></tr><tr><td>&quot;mean&quot;</td><td>null</td><td>null</td></tr><tr><td>&quot;std&quot;</td><td>null</td><td>null</td></tr><tr><td>&quot;min&quot;</td><td>&quot;AA&quot;</td><td>&quot;Alaska Airline…</td></tr><tr><td>&quot;25%&quot;</td><td>null</td><td>null</td></tr><tr><td>&quot;50%&quot;</td><td>null</td><td>null</td></tr><tr><td>&quot;75%&quot;</td><td>null</td><td>null</td></tr><tr><td>&quot;max&quot;</td><td>&quot;WN&quot;</td><td>&quot;Virgin America…</td></tr></tbody></table></div>"
      ],
      "text/plain": [
       "shape: (9, 3)\n",
       "┌────────────┬───────────┬──────────────────────┐\n",
       "│ describe   ┆ IATA_CODE ┆ AIRLINE              │\n",
       "│ ---        ┆ ---       ┆ ---                  │\n",
       "│ str        ┆ str       ┆ str                  │\n",
       "╞════════════╪═══════════╪══════════════════════╡\n",
       "│ count      ┆ 14        ┆ 14                   │\n",
       "│ null_count ┆ 0         ┆ 0                    │\n",
       "│ mean       ┆ null      ┆ null                 │\n",
       "│ std        ┆ null      ┆ null                 │\n",
       "│ min        ┆ AA        ┆ Alaska Airlines Inc. │\n",
       "│ 25%        ┆ null      ┆ null                 │\n",
       "│ 50%        ┆ null      ┆ null                 │\n",
       "│ 75%        ┆ null      ┆ null                 │\n",
       "│ max        ┆ WN        ┆ Virgin America       │\n",
       "└────────────┴───────────┴──────────────────────┘"
      ]
     },
     "execution_count": 54,
     "metadata": {},
     "output_type": "execute_result"
    }
   ],
   "source": [
    "airlines.describe()"
   ]
  },
  {
   "cell_type": "code",
   "execution_count": 53,
   "metadata": {},
   "outputs": [
    {
     "data": {
      "text/html": [
       "<div><style>\n",
       ".dataframe > thead > tr,\n",
       ".dataframe > tbody > tr {\n",
       "  text-align: right;\n",
       "  white-space: pre-wrap;\n",
       "}\n",
       "</style>\n",
       "<small>shape: (9, 8)</small><table border=\"1\" class=\"dataframe\"><thead><tr><th>describe</th><th>IATA_CODE</th><th>AIRPORT</th><th>CITY</th><th>STATE</th><th>COUNTRY</th><th>LATITUDE</th><th>LONGITUDE</th></tr><tr><td>str</td><td>str</td><td>str</td><td>str</td><td>str</td><td>str</td><td>f64</td><td>f64</td></tr></thead><tbody><tr><td>&quot;count&quot;</td><td>&quot;322&quot;</td><td>&quot;322&quot;</td><td>&quot;322&quot;</td><td>&quot;322&quot;</td><td>&quot;322&quot;</td><td>319.0</td><td>319.0</td></tr><tr><td>&quot;null_count&quot;</td><td>&quot;0&quot;</td><td>&quot;0&quot;</td><td>&quot;0&quot;</td><td>&quot;0&quot;</td><td>&quot;0&quot;</td><td>3.0</td><td>3.0</td></tr><tr><td>&quot;mean&quot;</td><td>null</td><td>null</td><td>null</td><td>null</td><td>null</td><td>38.981244</td><td>-98.378964</td></tr><tr><td>&quot;std&quot;</td><td>null</td><td>null</td><td>null</td><td>null</td><td>null</td><td>8.616736</td><td>21.523492</td></tr><tr><td>&quot;min&quot;</td><td>&quot;ABE&quot;</td><td>&quot;Aberdeen Regio…</td><td>&quot;Aberdeen&quot;</td><td>&quot;AK&quot;</td><td>&quot;USA&quot;</td><td>13.48345</td><td>-176.64603</td></tr><tr><td>&quot;25%&quot;</td><td>null</td><td>null</td><td>null</td><td>null</td><td>null</td><td>33.66364</td><td>-110.73774</td></tr><tr><td>&quot;50%&quot;</td><td>null</td><td>null</td><td>null</td><td>null</td><td>null</td><td>39.29761</td><td>-93.40307</td></tr><tr><td>&quot;75%&quot;</td><td>null</td><td>null</td><td>null</td><td>null</td><td>null</td><td>43.16949</td><td>-82.55411</td></tr><tr><td>&quot;max&quot;</td><td>&quot;YUM&quot;</td><td>&quot;Yuma Internati…</td><td>&quot;Yuma&quot;</td><td>&quot;WY&quot;</td><td>&quot;USA&quot;</td><td>71.28545</td><td>-64.79856</td></tr></tbody></table></div>"
      ],
      "text/plain": [
       "shape: (9, 8)\n",
       "┌────────────┬───────────┬────────────────────────────┬──────────┬───────┬─────────┬───────────┬────────────┐\n",
       "│ describe   ┆ IATA_CODE ┆ AIRPORT                    ┆ CITY     ┆ STATE ┆ COUNTRY ┆ LATITUDE  ┆ LONGITUDE  │\n",
       "│ ---        ┆ ---       ┆ ---                        ┆ ---      ┆ ---   ┆ ---     ┆ ---       ┆ ---        │\n",
       "│ str        ┆ str       ┆ str                        ┆ str      ┆ str   ┆ str     ┆ f64       ┆ f64        │\n",
       "╞════════════╪═══════════╪════════════════════════════╪══════════╪═══════╪═════════╪═══════════╪════════════╡\n",
       "│ count      ┆ 322       ┆ 322                        ┆ 322      ┆ 322   ┆ 322     ┆ 319.0     ┆ 319.0      │\n",
       "│ null_count ┆ 0         ┆ 0                          ┆ 0        ┆ 0     ┆ 0       ┆ 3.0       ┆ 3.0        │\n",
       "│ mean       ┆ null      ┆ null                       ┆ null     ┆ null  ┆ null    ┆ 38.981244 ┆ -98.378964 │\n",
       "│ std        ┆ null      ┆ null                       ┆ null     ┆ null  ┆ null    ┆ 8.616736  ┆ 21.523492  │\n",
       "│ min        ┆ ABE       ┆ Aberdeen Regional Airport  ┆ Aberdeen ┆ AK    ┆ USA     ┆ 13.48345  ┆ -176.64603 │\n",
       "│ 25%        ┆ null      ┆ null                       ┆ null     ┆ null  ┆ null    ┆ 33.66364  ┆ -110.73774 │\n",
       "│ 50%        ┆ null      ┆ null                       ┆ null     ┆ null  ┆ null    ┆ 39.29761  ┆ -93.40307  │\n",
       "│ 75%        ┆ null      ┆ null                       ┆ null     ┆ null  ┆ null    ┆ 43.16949  ┆ -82.55411  │\n",
       "│ max        ┆ YUM       ┆ Yuma International Airport ┆ Yuma     ┆ WY    ┆ USA     ┆ 71.28545  ┆ -64.79856  │\n",
       "└────────────┴───────────┴────────────────────────────┴──────────┴───────┴─────────┴───────────┴────────────┘"
      ]
     },
     "execution_count": 53,
     "metadata": {},
     "output_type": "execute_result"
    }
   ],
   "source": [
    "airports.describe()"
   ]
  },
  {
   "cell_type": "code",
   "execution_count": 55,
   "metadata": {},
   "outputs": [
    {
     "data": {
      "text/html": [
       "<div><style>\n",
       ".dataframe > thead > tr,\n",
       ".dataframe > tbody > tr {\n",
       "  text-align: right;\n",
       "  white-space: pre-wrap;\n",
       "}\n",
       "</style>\n",
       "<small>shape: (9, 32)</small><table border=\"1\" class=\"dataframe\"><thead><tr><th>describe</th><th>YEAR</th><th>MONTH</th><th>DAY</th><th>DAY_OF_WEEK</th><th>AIRLINE</th><th>FLIGHT_NUMBER</th><th>TAIL_NUMBER</th><th>ORIGIN_AIRPORT</th><th>DESTINATION_AIRPORT</th><th>SCHEDULED_DEPARTURE</th><th>DEPARTURE_TIME</th><th>DEPARTURE_DELAY</th><th>TAXI_OUT</th><th>WHEELS_OFF</th><th>SCHEDULED_TIME</th><th>ELAPSED_TIME</th><th>AIR_TIME</th><th>DISTANCE</th><th>WHEELS_ON</th><th>TAXI_IN</th><th>SCHEDULED_ARRIVAL</th><th>ARRIVAL_TIME</th><th>ARRIVAL_DELAY</th><th>DIVERTED</th><th>CANCELLED</th><th>CANCELLATION_REASON</th><th>AIR_SYSTEM_DELAY</th><th>SECURITY_DELAY</th><th>AIRLINE_DELAY</th><th>LATE_AIRCRAFT_DELAY</th><th>WEATHER_DELAY</th></tr><tr><td>str</td><td>f64</td><td>f64</td><td>f64</td><td>f64</td><td>str</td><td>f64</td><td>str</td><td>str</td><td>str</td><td>f64</td><td>f64</td><td>f64</td><td>f64</td><td>f64</td><td>f64</td><td>f64</td><td>f64</td><td>f64</td><td>f64</td><td>f64</td><td>f64</td><td>f64</td><td>f64</td><td>f64</td><td>f64</td><td>str</td><td>f64</td><td>f64</td><td>f64</td><td>f64</td><td>f64</td></tr></thead><tbody><tr><td>&quot;count&quot;</td><td>5.819079e6</td><td>5.819079e6</td><td>5.819079e6</td><td>5.819079e6</td><td>&quot;5819079&quot;</td><td>5.819079e6</td><td>&quot;5804358&quot;</td><td>&quot;5819079&quot;</td><td>&quot;5819079&quot;</td><td>5.819079e6</td><td>5.732926e6</td><td>5.732926e6</td><td>5.730032e6</td><td>5.730032e6</td><td>5.819073e6</td><td>5.714008e6</td><td>5.714008e6</td><td>5.819079e6</td><td>5.726566e6</td><td>5.726566e6</td><td>5.819079e6</td><td>5.726566e6</td><td>5.714008e6</td><td>5.819079e6</td><td>5.819079e6</td><td>&quot;89884&quot;</td><td>1.063439e6</td><td>1.063439e6</td><td>1.063439e6</td><td>1.063439e6</td><td>1.063439e6</td></tr><tr><td>&quot;null_count&quot;</td><td>0.0</td><td>0.0</td><td>0.0</td><td>0.0</td><td>&quot;0&quot;</td><td>0.0</td><td>&quot;14721&quot;</td><td>&quot;0&quot;</td><td>&quot;0&quot;</td><td>0.0</td><td>86153.0</td><td>86153.0</td><td>89047.0</td><td>89047.0</td><td>6.0</td><td>105071.0</td><td>105071.0</td><td>0.0</td><td>92513.0</td><td>92513.0</td><td>0.0</td><td>92513.0</td><td>105071.0</td><td>0.0</td><td>0.0</td><td>&quot;5729195&quot;</td><td>4.75564e6</td><td>4.75564e6</td><td>4.75564e6</td><td>4.75564e6</td><td>4.75564e6</td></tr><tr><td>&quot;mean&quot;</td><td>2015.0</td><td>6.524085</td><td>15.704594</td><td>3.926941</td><td>null</td><td>2173.092742</td><td>null</td><td>null</td><td>null</td><td>1329.60247</td><td>1335.204439</td><td>9.370158</td><td>16.071662</td><td>1357.170841</td><td>141.685892</td><td>137.006189</td><td>113.511628</td><td>822.356495</td><td>1471.468609</td><td>7.434971</td><td>1493.808249</td><td>1476.491188</td><td>4.407057</td><td>0.00261</td><td>0.015446</td><td>null</td><td>13.480568</td><td>0.076154</td><td>18.969547</td><td>23.472838</td><td>2.91529</td></tr><tr><td>&quot;std&quot;</td><td>0.0</td><td>3.405137</td><td>8.783425</td><td>1.988845</td><td>null</td><td>1757.063999</td><td>null</td><td>null</td><td>null</td><td>483.751821</td><td>496.42326</td><td>37.080942</td><td>8.895574</td><td>498.009356</td><td>75.210582</td><td>74.211072</td><td>72.230822</td><td>607.784287</td><td>522.187945</td><td>5.638548</td><td>507.164696</td><td>526.319737</td><td>39.271297</td><td>0.05102</td><td>0.12332</td><td>null</td><td>28.003679</td><td>2.14346</td><td>48.161642</td><td>43.197018</td><td>20.433336</td></tr><tr><td>&quot;min&quot;</td><td>2015.0</td><td>1.0</td><td>1.0</td><td>1.0</td><td>&quot;AA&quot;</td><td>1.0</td><td>&quot;7819A&quot;</td><td>&quot;10135&quot;</td><td>&quot;10135&quot;</td><td>1.0</td><td>1.0</td><td>-82.0</td><td>1.0</td><td>1.0</td><td>18.0</td><td>14.0</td><td>7.0</td><td>21.0</td><td>1.0</td><td>1.0</td><td>1.0</td><td>1.0</td><td>-87.0</td><td>0.0</td><td>0.0</td><td>&quot;A&quot;</td><td>0.0</td><td>0.0</td><td>0.0</td><td>0.0</td><td>0.0</td></tr><tr><td>&quot;25%&quot;</td><td>2015.0</td><td>4.0</td><td>8.0</td><td>2.0</td><td>null</td><td>730.0</td><td>null</td><td>null</td><td>null</td><td>917.0</td><td>921.0</td><td>-5.0</td><td>11.0</td><td>935.0</td><td>85.0</td><td>82.0</td><td>60.0</td><td>373.0</td><td>1054.0</td><td>4.0</td><td>1110.0</td><td>1059.0</td><td>-13.0</td><td>0.0</td><td>0.0</td><td>null</td><td>0.0</td><td>0.0</td><td>0.0</td><td>0.0</td><td>0.0</td></tr><tr><td>&quot;50%&quot;</td><td>2015.0</td><td>7.0</td><td>16.0</td><td>4.0</td><td>null</td><td>1690.0</td><td>null</td><td>null</td><td>null</td><td>1325.0</td><td>1330.0</td><td>-2.0</td><td>14.0</td><td>1343.0</td><td>123.0</td><td>118.0</td><td>94.0</td><td>647.0</td><td>1509.0</td><td>6.0</td><td>1520.0</td><td>1512.0</td><td>-5.0</td><td>0.0</td><td>0.0</td><td>null</td><td>2.0</td><td>0.0</td><td>2.0</td><td>3.0</td><td>0.0</td></tr><tr><td>&quot;75%&quot;</td><td>2015.0</td><td>9.0</td><td>23.0</td><td>6.0</td><td>null</td><td>3230.0</td><td>null</td><td>null</td><td>null</td><td>1730.0</td><td>1740.0</td><td>7.0</td><td>19.0</td><td>1754.0</td><td>173.0</td><td>168.0</td><td>144.0</td><td>1062.0</td><td>1911.0</td><td>9.0</td><td>1918.0</td><td>1917.0</td><td>8.0</td><td>0.0</td><td>0.0</td><td>null</td><td>18.0</td><td>0.0</td><td>19.0</td><td>29.0</td><td>0.0</td></tr><tr><td>&quot;max&quot;</td><td>2015.0</td><td>12.0</td><td>31.0</td><td>7.0</td><td>&quot;WN&quot;</td><td>9855.0</td><td>&quot;N9EAMQ&quot;</td><td>&quot;YUM&quot;</td><td>&quot;YUM&quot;</td><td>2359.0</td><td>2400.0</td><td>1988.0</td><td>225.0</td><td>2400.0</td><td>718.0</td><td>766.0</td><td>690.0</td><td>4983.0</td><td>2400.0</td><td>248.0</td><td>2400.0</td><td>2400.0</td><td>1971.0</td><td>1.0</td><td>1.0</td><td>&quot;D&quot;</td><td>1134.0</td><td>573.0</td><td>1971.0</td><td>1331.0</td><td>1211.0</td></tr></tbody></table></div>"
      ],
      "text/plain": [
       "shape: (9, 32)\n",
       "┌────────────┬────────────┬────────────┬────────────┬───┬────────────────┬───────────────┬─────────────────────┬───────────────┐\n",
       "│ describe   ┆ YEAR       ┆ MONTH      ┆ DAY        ┆ … ┆ SECURITY_DELAY ┆ AIRLINE_DELAY ┆ LATE_AIRCRAFT_DELAY ┆ WEATHER_DELAY │\n",
       "│ ---        ┆ ---        ┆ ---        ┆ ---        ┆   ┆ ---            ┆ ---           ┆ ---                 ┆ ---           │\n",
       "│ str        ┆ f64        ┆ f64        ┆ f64        ┆   ┆ f64            ┆ f64           ┆ f64                 ┆ f64           │\n",
       "╞════════════╪════════════╪════════════╪════════════╪═══╪════════════════╪═══════════════╪═════════════════════╪═══════════════╡\n",
       "│ count      ┆ 5.819079e6 ┆ 5.819079e6 ┆ 5.819079e6 ┆ … ┆ 1.063439e6     ┆ 1.063439e6    ┆ 1.063439e6          ┆ 1.063439e6    │\n",
       "│ null_count ┆ 0.0        ┆ 0.0        ┆ 0.0        ┆ … ┆ 4.75564e6      ┆ 4.75564e6     ┆ 4.75564e6           ┆ 4.75564e6     │\n",
       "│ mean       ┆ 2015.0     ┆ 6.524085   ┆ 15.704594  ┆ … ┆ 0.076154       ┆ 18.969547     ┆ 23.472838           ┆ 2.91529       │\n",
       "│ std        ┆ 0.0        ┆ 3.405137   ┆ 8.783425   ┆ … ┆ 2.14346        ┆ 48.161642     ┆ 43.197018           ┆ 20.433336     │\n",
       "│ min        ┆ 2015.0     ┆ 1.0        ┆ 1.0        ┆ … ┆ 0.0            ┆ 0.0           ┆ 0.0                 ┆ 0.0           │\n",
       "│ 25%        ┆ 2015.0     ┆ 4.0        ┆ 8.0        ┆ … ┆ 0.0            ┆ 0.0           ┆ 0.0                 ┆ 0.0           │\n",
       "│ 50%        ┆ 2015.0     ┆ 7.0        ┆ 16.0       ┆ … ┆ 0.0            ┆ 2.0           ┆ 3.0                 ┆ 0.0           │\n",
       "│ 75%        ┆ 2015.0     ┆ 9.0        ┆ 23.0       ┆ … ┆ 0.0            ┆ 19.0          ┆ 29.0                ┆ 0.0           │\n",
       "│ max        ┆ 2015.0     ┆ 12.0       ┆ 31.0       ┆ … ┆ 573.0          ┆ 1971.0        ┆ 1331.0              ┆ 1211.0        │\n",
       "└────────────┴────────────┴────────────┴────────────┴───┴────────────────┴───────────────┴─────────────────────┴───────────────┘"
      ]
     },
     "execution_count": 55,
     "metadata": {},
     "output_type": "execute_result"
    }
   ],
   "source": [
    "flights.describe()"
   ]
  },
  {
   "cell_type": "code",
   "execution_count": 49,
   "metadata": {},
   "outputs": [
    {
     "data": {
      "text/html": [
       "<div><style>\n",
       ".dataframe > thead > tr,\n",
       ".dataframe > tbody > tr {\n",
       "  text-align: right;\n",
       "  white-space: pre-wrap;\n",
       "}\n",
       "</style>\n",
       "<small>shape: (14, 2)</small><table border=\"1\" class=\"dataframe\"><thead><tr><th>AIRLINE</th><th>count</th></tr><tr><td>str</td><td>u32</td></tr></thead><tbody><tr><td>&quot;AA&quot;</td><td>725984</td></tr><tr><td>&quot;AS&quot;</td><td>172521</td></tr><tr><td>&quot;B6&quot;</td><td>267048</td></tr><tr><td>&quot;DL&quot;</td><td>875881</td></tr><tr><td>&quot;EV&quot;</td><td>571977</td></tr><tr><td>&quot;F9&quot;</td><td>90836</td></tr><tr><td>&quot;HA&quot;</td><td>76272</td></tr><tr><td>&quot;MQ&quot;</td><td>294632</td></tr><tr><td>&quot;NK&quot;</td><td>117379</td></tr><tr><td>&quot;OO&quot;</td><td>588353</td></tr><tr><td>&quot;UA&quot;</td><td>515723</td></tr><tr><td>&quot;US&quot;</td><td>198715</td></tr><tr><td>&quot;VX&quot;</td><td>61903</td></tr><tr><td>&quot;WN&quot;</td><td>1261855</td></tr></tbody></table></div>"
      ],
      "text/plain": [
       "shape: (14, 2)\n",
       "┌─────────┬─────────┐\n",
       "│ AIRLINE ┆ count   │\n",
       "│ ---     ┆ ---     │\n",
       "│ str     ┆ u32     │\n",
       "╞═════════╪═════════╡\n",
       "│ AA      ┆ 725984  │\n",
       "│ AS      ┆ 172521  │\n",
       "│ B6      ┆ 267048  │\n",
       "│ DL      ┆ 875881  │\n",
       "│ …       ┆ …       │\n",
       "│ UA      ┆ 515723  │\n",
       "│ US      ┆ 198715  │\n",
       "│ VX      ┆ 61903   │\n",
       "│ WN      ┆ 1261855 │\n",
       "└─────────┴─────────┘"
      ]
     },
     "execution_count": 49,
     "metadata": {},
     "output_type": "execute_result"
    }
   ],
   "source": [
    "flights[\"AIRLINE\"].value_counts().sort(by='AIRLINE')"
   ]
  },
  {
   "cell_type": "code",
   "execution_count": 50,
   "metadata": {},
   "outputs": [
    {
     "data": {
      "text/html": [
       "<div><style>\n",
       ".dataframe > thead > tr,\n",
       ".dataframe > tbody > tr {\n",
       "  text-align: right;\n",
       "  white-space: pre-wrap;\n",
       "}\n",
       "</style>\n",
       "<small>shape: (14, 2)</small><table border=\"1\" class=\"dataframe\"><thead><tr><th>IATA_CODE</th><th>AIRLINE</th></tr><tr><td>str</td><td>str</td></tr></thead><tbody><tr><td>&quot;AA&quot;</td><td>&quot;American Airli…</td></tr><tr><td>&quot;AS&quot;</td><td>&quot;Alaska Airline…</td></tr><tr><td>&quot;B6&quot;</td><td>&quot;JetBlue Airway…</td></tr><tr><td>&quot;DL&quot;</td><td>&quot;Delta Air Line…</td></tr><tr><td>&quot;EV&quot;</td><td>&quot;Atlantic South…</td></tr><tr><td>&quot;F9&quot;</td><td>&quot;Frontier Airli…</td></tr><tr><td>&quot;HA&quot;</td><td>&quot;Hawaiian Airli…</td></tr><tr><td>&quot;MQ&quot;</td><td>&quot;American Eagle…</td></tr><tr><td>&quot;NK&quot;</td><td>&quot;Spirit Air Lin…</td></tr><tr><td>&quot;OO&quot;</td><td>&quot;Skywest Airlin…</td></tr><tr><td>&quot;UA&quot;</td><td>&quot;United Air Lin…</td></tr><tr><td>&quot;US&quot;</td><td>&quot;US Airways Inc…</td></tr><tr><td>&quot;VX&quot;</td><td>&quot;Virgin America…</td></tr><tr><td>&quot;WN&quot;</td><td>&quot;Southwest Airl…</td></tr></tbody></table></div>"
      ],
      "text/plain": [
       "shape: (14, 2)\n",
       "┌───────────┬────────────────────────┐\n",
       "│ IATA_CODE ┆ AIRLINE                │\n",
       "│ ---       ┆ ---                    │\n",
       "│ str       ┆ str                    │\n",
       "╞═══════════╪════════════════════════╡\n",
       "│ AA        ┆ American Airlines Inc. │\n",
       "│ AS        ┆ Alaska Airlines Inc.   │\n",
       "│ B6        ┆ JetBlue Airways        │\n",
       "│ DL        ┆ Delta Air Lines Inc.   │\n",
       "│ …         ┆ …                      │\n",
       "│ UA        ┆ United Air Lines Inc.  │\n",
       "│ US        ┆ US Airways Inc.        │\n",
       "│ VX        ┆ Virgin America         │\n",
       "│ WN        ┆ Southwest Airlines Co. │\n",
       "└───────────┴────────────────────────┘"
      ]
     },
     "execution_count": 50,
     "metadata": {},
     "output_type": "execute_result"
    }
   ],
   "source": [
    "airlines.sort(by=['IATA_CODE'])"
   ]
  },
  {
   "cell_type": "code",
   "execution_count": 65,
   "metadata": {},
   "outputs": [
    {
     "data": {
      "text/html": [
       "<div><style>\n",
       ".dataframe > thead > tr,\n",
       ".dataframe > tbody > tr {\n",
       "  text-align: right;\n",
       "  white-space: pre-wrap;\n",
       "}\n",
       "</style>\n",
       "<small>shape: (5, 32)</small><table border=\"1\" class=\"dataframe\"><thead><tr><th>YEAR</th><th>MONTH</th><th>DAY</th><th>DAY_OF_WEEK</th><th>AIRLINE</th><th>FLIGHT_NUMBER</th><th>TAIL_NUMBER</th><th>ORIGIN_AIRPORT</th><th>DESTINATION_AIRPORT</th><th>SCHEDULED_DEPARTURE</th><th>DEPARTURE_TIME</th><th>DEPARTURE_DELAY</th><th>TAXI_OUT</th><th>WHEELS_OFF</th><th>SCHEDULED_TIME</th><th>ELAPSED_TIME</th><th>AIR_TIME</th><th>DISTANCE</th><th>WHEELS_ON</th><th>TAXI_IN</th><th>SCHEDULED_ARRIVAL</th><th>ARRIVAL_TIME</th><th>ARRIVAL_DELAY</th><th>DIVERTED</th><th>CANCELLED</th><th>CANCELLATION_REASON</th><th>AIR_SYSTEM_DELAY</th><th>SECURITY_DELAY</th><th>AIRLINE_DELAY</th><th>LATE_AIRCRAFT_DELAY</th><th>WEATHER_DELAY</th><th>AIRLINE_right</th></tr><tr><td>i64</td><td>i64</td><td>i64</td><td>i64</td><td>str</td><td>i64</td><td>str</td><td>str</td><td>str</td><td>i64</td><td>i64</td><td>i64</td><td>i64</td><td>i64</td><td>i64</td><td>i64</td><td>i64</td><td>i64</td><td>i64</td><td>i64</td><td>i64</td><td>i64</td><td>i64</td><td>i64</td><td>i64</td><td>str</td><td>i64</td><td>i64</td><td>i64</td><td>i64</td><td>i64</td><td>str</td></tr></thead><tbody><tr><td>2015</td><td>1</td><td>1</td><td>4</td><td>&quot;AS&quot;</td><td>98</td><td>&quot;N407AS&quot;</td><td>&quot;ANC&quot;</td><td>&quot;SEA&quot;</td><td>5</td><td>2354</td><td>-11</td><td>21</td><td>15</td><td>205</td><td>194</td><td>169</td><td>1448</td><td>404</td><td>4</td><td>430</td><td>408</td><td>-22</td><td>0</td><td>0</td><td>null</td><td>null</td><td>null</td><td>null</td><td>null</td><td>null</td><td>&quot;Alaska Airline…</td></tr><tr><td>2015</td><td>1</td><td>1</td><td>4</td><td>&quot;AA&quot;</td><td>2336</td><td>&quot;N3KUAA&quot;</td><td>&quot;LAX&quot;</td><td>&quot;PBI&quot;</td><td>10</td><td>2</td><td>-8</td><td>12</td><td>14</td><td>280</td><td>279</td><td>263</td><td>2330</td><td>737</td><td>4</td><td>750</td><td>741</td><td>-9</td><td>0</td><td>0</td><td>null</td><td>null</td><td>null</td><td>null</td><td>null</td><td>null</td><td>&quot;American Airli…</td></tr><tr><td>2015</td><td>1</td><td>1</td><td>4</td><td>&quot;US&quot;</td><td>840</td><td>&quot;N171US&quot;</td><td>&quot;SFO&quot;</td><td>&quot;CLT&quot;</td><td>20</td><td>18</td><td>-2</td><td>16</td><td>34</td><td>286</td><td>293</td><td>266</td><td>2296</td><td>800</td><td>11</td><td>806</td><td>811</td><td>5</td><td>0</td><td>0</td><td>null</td><td>null</td><td>null</td><td>null</td><td>null</td><td>null</td><td>&quot;US Airways Inc…</td></tr><tr><td>2015</td><td>1</td><td>1</td><td>4</td><td>&quot;AA&quot;</td><td>258</td><td>&quot;N3HYAA&quot;</td><td>&quot;LAX&quot;</td><td>&quot;MIA&quot;</td><td>20</td><td>15</td><td>-5</td><td>15</td><td>30</td><td>285</td><td>281</td><td>258</td><td>2342</td><td>748</td><td>8</td><td>805</td><td>756</td><td>-9</td><td>0</td><td>0</td><td>null</td><td>null</td><td>null</td><td>null</td><td>null</td><td>null</td><td>&quot;American Airli…</td></tr><tr><td>2015</td><td>1</td><td>1</td><td>4</td><td>&quot;AS&quot;</td><td>135</td><td>&quot;N527AS&quot;</td><td>&quot;SEA&quot;</td><td>&quot;ANC&quot;</td><td>25</td><td>24</td><td>-1</td><td>11</td><td>35</td><td>235</td><td>215</td><td>199</td><td>1448</td><td>254</td><td>5</td><td>320</td><td>259</td><td>-21</td><td>0</td><td>0</td><td>null</td><td>null</td><td>null</td><td>null</td><td>null</td><td>null</td><td>&quot;Alaska Airline…</td></tr></tbody></table></div>"
      ],
      "text/plain": [
       "shape: (5, 32)\n",
       "┌──────┬───────┬─────┬─────────────┬───┬───────────────┬─────────────────────┬───────────────┬────────────────────────┐\n",
       "│ YEAR ┆ MONTH ┆ DAY ┆ DAY_OF_WEEK ┆ … ┆ AIRLINE_DELAY ┆ LATE_AIRCRAFT_DELAY ┆ WEATHER_DELAY ┆ AIRLINE_right          │\n",
       "│ ---  ┆ ---   ┆ --- ┆ ---         ┆   ┆ ---           ┆ ---                 ┆ ---           ┆ ---                    │\n",
       "│ i64  ┆ i64   ┆ i64 ┆ i64         ┆   ┆ i64           ┆ i64                 ┆ i64           ┆ str                    │\n",
       "╞══════╪═══════╪═════╪═════════════╪═══╪═══════════════╪═════════════════════╪═══════════════╪════════════════════════╡\n",
       "│ 2015 ┆ 1     ┆ 1   ┆ 4           ┆ … ┆ null          ┆ null                ┆ null          ┆ Alaska Airlines Inc.   │\n",
       "│ 2015 ┆ 1     ┆ 1   ┆ 4           ┆ … ┆ null          ┆ null                ┆ null          ┆ American Airlines Inc. │\n",
       "│ 2015 ┆ 1     ┆ 1   ┆ 4           ┆ … ┆ null          ┆ null                ┆ null          ┆ US Airways Inc.        │\n",
       "│ 2015 ┆ 1     ┆ 1   ┆ 4           ┆ … ┆ null          ┆ null                ┆ null          ┆ American Airlines Inc. │\n",
       "│ 2015 ┆ 1     ┆ 1   ┆ 4           ┆ … ┆ null          ┆ null                ┆ null          ┆ Alaska Airlines Inc.   │\n",
       "└──────┴───────┴─────┴─────────────┴───┴───────────────┴─────────────────────┴───────────────┴────────────────────────┘"
      ]
     },
     "execution_count": 65,
     "metadata": {},
     "output_type": "execute_result"
    }
   ],
   "source": [
    "data = flights.join(airlines, left_on='AIRLINE', right_on=\"IATA_CODE\")\n",
    "data.head()\n"
   ]
  },
  {
   "cell_type": "code",
   "execution_count": 91,
   "metadata": {},
   "outputs": [
    {
     "data": {
      "text/html": [
       "<div><style>\n",
       ".dataframe > thead > tr,\n",
       ".dataframe > tbody > tr {\n",
       "  text-align: right;\n",
       "  white-space: pre-wrap;\n",
       "}\n",
       "</style>\n",
       "<small>shape: (18, 3)</small><table border=\"1\" class=\"dataframe\"><thead><tr><th>variable</th><th>missing</th><th>missing_percents</th></tr><tr><td>str</td><td>u32</td><td>f64</td></tr></thead><tbody><tr><td>&quot;TAIL_NUMBER&quot;</td><td>14721</td><td>0.25</td></tr><tr><td>&quot;DEPARTURE_TIME…</td><td>86153</td><td>1.48</td></tr><tr><td>&quot;DEPARTURE_DELA…</td><td>86153</td><td>1.48</td></tr><tr><td>&quot;TAXI_OUT&quot;</td><td>89047</td><td>1.53</td></tr><tr><td>&quot;WHEELS_OFF&quot;</td><td>89047</td><td>1.53</td></tr><tr><td>&quot;SCHEDULED_TIME…</td><td>6</td><td>0.0</td></tr><tr><td>&quot;ELAPSED_TIME&quot;</td><td>105071</td><td>1.81</td></tr><tr><td>&quot;AIR_TIME&quot;</td><td>105071</td><td>1.81</td></tr><tr><td>&quot;WHEELS_ON&quot;</td><td>92513</td><td>1.59</td></tr><tr><td>&quot;TAXI_IN&quot;</td><td>92513</td><td>1.59</td></tr><tr><td>&quot;ARRIVAL_TIME&quot;</td><td>92513</td><td>1.59</td></tr><tr><td>&quot;ARRIVAL_DELAY&quot;</td><td>105071</td><td>1.81</td></tr><tr><td>&quot;CANCELLATION_R…</td><td>5729195</td><td>98.46</td></tr><tr><td>&quot;AIR_SYSTEM_DEL…</td><td>4755640</td><td>81.72</td></tr><tr><td>&quot;SECURITY_DELAY…</td><td>4755640</td><td>81.72</td></tr><tr><td>&quot;AIRLINE_DELAY&quot;</td><td>4755640</td><td>81.72</td></tr><tr><td>&quot;LATE_AIRCRAFT_…</td><td>4755640</td><td>81.72</td></tr><tr><td>&quot;WEATHER_DELAY&quot;</td><td>4755640</td><td>81.72</td></tr></tbody></table></div>"
      ],
      "text/plain": [
       "shape: (18, 3)\n",
       "┌─────────────────────┬─────────┬──────────────────┐\n",
       "│ variable            ┆ missing ┆ missing_percents │\n",
       "│ ---                 ┆ ---     ┆ ---              │\n",
       "│ str                 ┆ u32     ┆ f64              │\n",
       "╞═════════════════════╪═════════╪══════════════════╡\n",
       "│ TAIL_NUMBER         ┆ 14721   ┆ 0.25             │\n",
       "│ DEPARTURE_TIME      ┆ 86153   ┆ 1.48             │\n",
       "│ DEPARTURE_DELAY     ┆ 86153   ┆ 1.48             │\n",
       "│ TAXI_OUT            ┆ 89047   ┆ 1.53             │\n",
       "│ …                   ┆ …       ┆ …                │\n",
       "│ SECURITY_DELAY      ┆ 4755640 ┆ 81.72            │\n",
       "│ AIRLINE_DELAY       ┆ 4755640 ┆ 81.72            │\n",
       "│ LATE_AIRCRAFT_DELAY ┆ 4755640 ┆ 81.72            │\n",
       "│ WEATHER_DELAY       ┆ 4755640 ┆ 81.72            │\n",
       "└─────────────────────┴─────────┴──────────────────┘"
      ]
     },
     "execution_count": 91,
     "metadata": {},
     "output_type": "execute_result"
    }
   ],
   "source": [
    "# missing data\n",
    "data.select(pl.all().is_null().sum()).melt(value_name=\"missing\").filter(pl.col(\"missing\") > 0).select(\n",
    "    pl.col(\"variable\"), \n",
    "    pl.col(\"missing\"),\n",
    "    pl.col(\"missing\").map_elements(lambda x: x/data.shape[0] * 100).round(2).alias(\"missing_percents\"))\n"
   ]
  },
  {
   "cell_type": "code",
   "execution_count": 94,
   "metadata": {},
   "outputs": [
    {
     "data": {
      "text/html": [
       "<div><style>\n",
       ".dataframe > thead > tr,\n",
       ".dataframe > tbody > tr {\n",
       "  text-align: right;\n",
       "  white-space: pre-wrap;\n",
       "}\n",
       "</style>\n",
       "<small>shape: (5, 32)</small><table border=\"1\" class=\"dataframe\"><thead><tr><th>year</th><th>month</th><th>day</th><th>day_of_week</th><th>airline</th><th>flight_number</th><th>tail_number</th><th>origin_airport</th><th>destination_airport</th><th>scheduled_departure</th><th>departure_time</th><th>departure_delay</th><th>taxi_out</th><th>wheels_off</th><th>scheduled_time</th><th>elapsed_time</th><th>air_time</th><th>distance</th><th>wheels_on</th><th>taxi_in</th><th>scheduled_arrival</th><th>arrival_time</th><th>arrival_delay</th><th>diverted</th><th>cancelled</th><th>cancellation_reason</th><th>air_system_delay</th><th>security_delay</th><th>airline_delay</th><th>late_aircraft_delay</th><th>weather_delay</th><th>airline_right</th></tr><tr><td>i64</td><td>i64</td><td>i64</td><td>i64</td><td>str</td><td>i64</td><td>str</td><td>str</td><td>str</td><td>i64</td><td>i64</td><td>i64</td><td>i64</td><td>i64</td><td>i64</td><td>i64</td><td>i64</td><td>i64</td><td>i64</td><td>i64</td><td>i64</td><td>i64</td><td>i64</td><td>i64</td><td>i64</td><td>str</td><td>i64</td><td>i64</td><td>i64</td><td>i64</td><td>i64</td><td>str</td></tr></thead><tbody><tr><td>2015</td><td>1</td><td>1</td><td>4</td><td>&quot;AS&quot;</td><td>98</td><td>&quot;N407AS&quot;</td><td>&quot;ANC&quot;</td><td>&quot;SEA&quot;</td><td>5</td><td>2354</td><td>-11</td><td>21</td><td>15</td><td>205</td><td>194</td><td>169</td><td>1448</td><td>404</td><td>4</td><td>430</td><td>408</td><td>-22</td><td>0</td><td>0</td><td>null</td><td>null</td><td>null</td><td>null</td><td>null</td><td>null</td><td>&quot;Alaska Airline…</td></tr><tr><td>2015</td><td>1</td><td>1</td><td>4</td><td>&quot;AA&quot;</td><td>2336</td><td>&quot;N3KUAA&quot;</td><td>&quot;LAX&quot;</td><td>&quot;PBI&quot;</td><td>10</td><td>2</td><td>-8</td><td>12</td><td>14</td><td>280</td><td>279</td><td>263</td><td>2330</td><td>737</td><td>4</td><td>750</td><td>741</td><td>-9</td><td>0</td><td>0</td><td>null</td><td>null</td><td>null</td><td>null</td><td>null</td><td>null</td><td>&quot;American Airli…</td></tr><tr><td>2015</td><td>1</td><td>1</td><td>4</td><td>&quot;US&quot;</td><td>840</td><td>&quot;N171US&quot;</td><td>&quot;SFO&quot;</td><td>&quot;CLT&quot;</td><td>20</td><td>18</td><td>-2</td><td>16</td><td>34</td><td>286</td><td>293</td><td>266</td><td>2296</td><td>800</td><td>11</td><td>806</td><td>811</td><td>5</td><td>0</td><td>0</td><td>null</td><td>null</td><td>null</td><td>null</td><td>null</td><td>null</td><td>&quot;US Airways Inc…</td></tr><tr><td>2015</td><td>1</td><td>1</td><td>4</td><td>&quot;AA&quot;</td><td>258</td><td>&quot;N3HYAA&quot;</td><td>&quot;LAX&quot;</td><td>&quot;MIA&quot;</td><td>20</td><td>15</td><td>-5</td><td>15</td><td>30</td><td>285</td><td>281</td><td>258</td><td>2342</td><td>748</td><td>8</td><td>805</td><td>756</td><td>-9</td><td>0</td><td>0</td><td>null</td><td>null</td><td>null</td><td>null</td><td>null</td><td>null</td><td>&quot;American Airli…</td></tr><tr><td>2015</td><td>1</td><td>1</td><td>4</td><td>&quot;AS&quot;</td><td>135</td><td>&quot;N527AS&quot;</td><td>&quot;SEA&quot;</td><td>&quot;ANC&quot;</td><td>25</td><td>24</td><td>-1</td><td>11</td><td>35</td><td>235</td><td>215</td><td>199</td><td>1448</td><td>254</td><td>5</td><td>320</td><td>259</td><td>-21</td><td>0</td><td>0</td><td>null</td><td>null</td><td>null</td><td>null</td><td>null</td><td>null</td><td>&quot;Alaska Airline…</td></tr></tbody></table></div>"
      ],
      "text/plain": [
       "shape: (5, 32)\n",
       "┌──────┬───────┬─────┬─────────────┬───┬───────────────┬─────────────────────┬───────────────┬────────────────────────┐\n",
       "│ year ┆ month ┆ day ┆ day_of_week ┆ … ┆ airline_delay ┆ late_aircraft_delay ┆ weather_delay ┆ airline_right          │\n",
       "│ ---  ┆ ---   ┆ --- ┆ ---         ┆   ┆ ---           ┆ ---                 ┆ ---           ┆ ---                    │\n",
       "│ i64  ┆ i64   ┆ i64 ┆ i64         ┆   ┆ i64           ┆ i64                 ┆ i64           ┆ str                    │\n",
       "╞══════╪═══════╪═════╪═════════════╪═══╪═══════════════╪═════════════════════╪═══════════════╪════════════════════════╡\n",
       "│ 2015 ┆ 1     ┆ 1   ┆ 4           ┆ … ┆ null          ┆ null                ┆ null          ┆ Alaska Airlines Inc.   │\n",
       "│ 2015 ┆ 1     ┆ 1   ┆ 4           ┆ … ┆ null          ┆ null                ┆ null          ┆ American Airlines Inc. │\n",
       "│ 2015 ┆ 1     ┆ 1   ┆ 4           ┆ … ┆ null          ┆ null                ┆ null          ┆ US Airways Inc.        │\n",
       "│ 2015 ┆ 1     ┆ 1   ┆ 4           ┆ … ┆ null          ┆ null                ┆ null          ┆ American Airlines Inc. │\n",
       "│ 2015 ┆ 1     ┆ 1   ┆ 4           ┆ … ┆ null          ┆ null                ┆ null          ┆ Alaska Airlines Inc.   │\n",
       "└──────┴───────┴─────┴─────────────┴───┴───────────────┴─────────────────────┴───────────────┴────────────────────────┘"
      ]
     },
     "execution_count": 94,
     "metadata": {},
     "output_type": "execute_result"
    }
   ],
   "source": [
    "data = data.rename({col: col.lower() for col in data.columns})\n",
    "data.head()"
   ]
  },
  {
   "cell_type": "code",
   "execution_count": 97,
   "metadata": {},
   "outputs": [
    {
     "data": {
      "text/html": [
       "<div><style>\n",
       ".dataframe > thead > tr,\n",
       ".dataframe > tbody > tr {\n",
       "  text-align: right;\n",
       "  white-space: pre-wrap;\n",
       "}\n",
       "</style>\n",
       "<small>shape: (5, 26)</small><table border=\"1\" class=\"dataframe\"><thead><tr><th>year</th><th>month</th><th>day</th><th>day_of_week</th><th>airline</th><th>flight_number</th><th>tail_number</th><th>origin_airport</th><th>destination_airport</th><th>scheduled_departure</th><th>departure_time</th><th>departure_delay</th><th>taxi_out</th><th>wheels_off</th><th>scheduled_time</th><th>elapsed_time</th><th>air_time</th><th>distance</th><th>wheels_on</th><th>taxi_in</th><th>scheduled_arrival</th><th>arrival_time</th><th>arrival_delay</th><th>diverted</th><th>cancelled</th><th>airline_right</th></tr><tr><td>i64</td><td>i64</td><td>i64</td><td>i64</td><td>str</td><td>i64</td><td>str</td><td>str</td><td>str</td><td>i64</td><td>i64</td><td>i64</td><td>i64</td><td>i64</td><td>i64</td><td>i64</td><td>i64</td><td>i64</td><td>i64</td><td>i64</td><td>i64</td><td>i64</td><td>i64</td><td>i64</td><td>i64</td><td>str</td></tr></thead><tbody><tr><td>2015</td><td>1</td><td>1</td><td>4</td><td>&quot;AS&quot;</td><td>98</td><td>&quot;N407AS&quot;</td><td>&quot;ANC&quot;</td><td>&quot;SEA&quot;</td><td>5</td><td>2354</td><td>-11</td><td>21</td><td>15</td><td>205</td><td>194</td><td>169</td><td>1448</td><td>404</td><td>4</td><td>430</td><td>408</td><td>-22</td><td>0</td><td>0</td><td>&quot;Alaska Airline…</td></tr><tr><td>2015</td><td>1</td><td>1</td><td>4</td><td>&quot;AA&quot;</td><td>2336</td><td>&quot;N3KUAA&quot;</td><td>&quot;LAX&quot;</td><td>&quot;PBI&quot;</td><td>10</td><td>2</td><td>-8</td><td>12</td><td>14</td><td>280</td><td>279</td><td>263</td><td>2330</td><td>737</td><td>4</td><td>750</td><td>741</td><td>-9</td><td>0</td><td>0</td><td>&quot;American Airli…</td></tr><tr><td>2015</td><td>1</td><td>1</td><td>4</td><td>&quot;US&quot;</td><td>840</td><td>&quot;N171US&quot;</td><td>&quot;SFO&quot;</td><td>&quot;CLT&quot;</td><td>20</td><td>18</td><td>-2</td><td>16</td><td>34</td><td>286</td><td>293</td><td>266</td><td>2296</td><td>800</td><td>11</td><td>806</td><td>811</td><td>5</td><td>0</td><td>0</td><td>&quot;US Airways Inc…</td></tr><tr><td>2015</td><td>1</td><td>1</td><td>4</td><td>&quot;AA&quot;</td><td>258</td><td>&quot;N3HYAA&quot;</td><td>&quot;LAX&quot;</td><td>&quot;MIA&quot;</td><td>20</td><td>15</td><td>-5</td><td>15</td><td>30</td><td>285</td><td>281</td><td>258</td><td>2342</td><td>748</td><td>8</td><td>805</td><td>756</td><td>-9</td><td>0</td><td>0</td><td>&quot;American Airli…</td></tr><tr><td>2015</td><td>1</td><td>1</td><td>4</td><td>&quot;AS&quot;</td><td>135</td><td>&quot;N527AS&quot;</td><td>&quot;SEA&quot;</td><td>&quot;ANC&quot;</td><td>25</td><td>24</td><td>-1</td><td>11</td><td>35</td><td>235</td><td>215</td><td>199</td><td>1448</td><td>254</td><td>5</td><td>320</td><td>259</td><td>-21</td><td>0</td><td>0</td><td>&quot;Alaska Airline…</td></tr></tbody></table></div>"
      ],
      "text/plain": [
       "shape: (5, 26)\n",
       "┌──────┬───────┬─────┬─────────────┬───┬───────────────┬──────────┬───────────┬────────────────────────┐\n",
       "│ year ┆ month ┆ day ┆ day_of_week ┆ … ┆ arrival_delay ┆ diverted ┆ cancelled ┆ airline_right          │\n",
       "│ ---  ┆ ---   ┆ --- ┆ ---         ┆   ┆ ---           ┆ ---      ┆ ---       ┆ ---                    │\n",
       "│ i64  ┆ i64   ┆ i64 ┆ i64         ┆   ┆ i64           ┆ i64      ┆ i64       ┆ str                    │\n",
       "╞══════╪═══════╪═════╪═════════════╪═══╪═══════════════╪══════════╪═══════════╪════════════════════════╡\n",
       "│ 2015 ┆ 1     ┆ 1   ┆ 4           ┆ … ┆ -22           ┆ 0        ┆ 0         ┆ Alaska Airlines Inc.   │\n",
       "│ 2015 ┆ 1     ┆ 1   ┆ 4           ┆ … ┆ -9            ┆ 0        ┆ 0         ┆ American Airlines Inc. │\n",
       "│ 2015 ┆ 1     ┆ 1   ┆ 4           ┆ … ┆ 5             ┆ 0        ┆ 0         ┆ US Airways Inc.        │\n",
       "│ 2015 ┆ 1     ┆ 1   ┆ 4           ┆ … ┆ -9            ┆ 0        ┆ 0         ┆ American Airlines Inc. │\n",
       "│ 2015 ┆ 1     ┆ 1   ┆ 4           ┆ … ┆ -21           ┆ 0        ┆ 0         ┆ Alaska Airlines Inc.   │\n",
       "└──────┴───────┴─────┴─────────────┴───┴───────────────┴──────────┴───────────┴────────────────────────┘"
      ]
     },
     "execution_count": 97,
     "metadata": {},
     "output_type": "execute_result"
    }
   ],
   "source": [
    "# drop missing cols \n",
    "cols_drop = [\"cancellation_reason\", \"air_system_delay\", \"security_delay\", \"airline_delay\", \"late_aircraft_delay\", \"weather_delay\"]\n",
    "data = data.drop(columns=cols_drop)\n",
    "data.head()"
   ]
  },
  {
   "cell_type": "code",
   "execution_count": 208,
   "metadata": {},
   "outputs": [
    {
     "data": {
      "text/html": [
       "<div><style>\n",
       ".dataframe > thead > tr,\n",
       ".dataframe > tbody > tr {\n",
       "  text-align: right;\n",
       "  white-space: pre-wrap;\n",
       "}\n",
       "</style>\n",
       "<small>shape: (5, 26)</small><table border=\"1\" class=\"dataframe\"><thead><tr><th>year</th><th>month</th><th>day</th><th>day_of_week</th><th>airline</th><th>flight_number</th><th>tail_number</th><th>origin_airport</th><th>destination_airport</th><th>departure_time</th><th>departure_delay</th><th>taxi_out</th><th>wheels_off</th><th>scheduled_time</th><th>elapsed_time</th><th>air_time</th><th>distance</th><th>wheels_on</th><th>taxi_in</th><th>scheduled_arrival</th><th>arrival_time</th><th>arrival_delay</th><th>diverted</th><th>cancelled</th><th>airline_right</th><th>scheduled_departure_time</th></tr><tr><td>i64</td><td>i64</td><td>i64</td><td>i64</td><td>str</td><td>i64</td><td>str</td><td>str</td><td>str</td><td>i64</td><td>i64</td><td>i64</td><td>i64</td><td>i64</td><td>i64</td><td>i64</td><td>i64</td><td>i64</td><td>i64</td><td>i64</td><td>i64</td><td>i64</td><td>i64</td><td>i64</td><td>str</td><td>datetime[μs]</td></tr></thead><tbody><tr><td>2015</td><td>1</td><td>1</td><td>4</td><td>&quot;AS&quot;</td><td>98</td><td>&quot;N407AS&quot;</td><td>&quot;ANC&quot;</td><td>&quot;SEA&quot;</td><td>2354</td><td>-11</td><td>21</td><td>15</td><td>205</td><td>194</td><td>169</td><td>1448</td><td>404</td><td>4</td><td>430</td><td>408</td><td>-22</td><td>0</td><td>0</td><td>&quot;Alaska Airline…</td><td>2015-01-01 00:05:00</td></tr><tr><td>2015</td><td>1</td><td>1</td><td>4</td><td>&quot;AA&quot;</td><td>2336</td><td>&quot;N3KUAA&quot;</td><td>&quot;LAX&quot;</td><td>&quot;PBI&quot;</td><td>2</td><td>-8</td><td>12</td><td>14</td><td>280</td><td>279</td><td>263</td><td>2330</td><td>737</td><td>4</td><td>750</td><td>741</td><td>-9</td><td>0</td><td>0</td><td>&quot;American Airli…</td><td>2015-01-01 00:10:00</td></tr><tr><td>2015</td><td>1</td><td>1</td><td>4</td><td>&quot;US&quot;</td><td>840</td><td>&quot;N171US&quot;</td><td>&quot;SFO&quot;</td><td>&quot;CLT&quot;</td><td>18</td><td>-2</td><td>16</td><td>34</td><td>286</td><td>293</td><td>266</td><td>2296</td><td>800</td><td>11</td><td>806</td><td>811</td><td>5</td><td>0</td><td>0</td><td>&quot;US Airways Inc…</td><td>2015-01-01 00:20:00</td></tr><tr><td>2015</td><td>1</td><td>1</td><td>4</td><td>&quot;AA&quot;</td><td>258</td><td>&quot;N3HYAA&quot;</td><td>&quot;LAX&quot;</td><td>&quot;MIA&quot;</td><td>15</td><td>-5</td><td>15</td><td>30</td><td>285</td><td>281</td><td>258</td><td>2342</td><td>748</td><td>8</td><td>805</td><td>756</td><td>-9</td><td>0</td><td>0</td><td>&quot;American Airli…</td><td>2015-01-01 00:20:00</td></tr><tr><td>2015</td><td>1</td><td>1</td><td>4</td><td>&quot;AS&quot;</td><td>135</td><td>&quot;N527AS&quot;</td><td>&quot;SEA&quot;</td><td>&quot;ANC&quot;</td><td>24</td><td>-1</td><td>11</td><td>35</td><td>235</td><td>215</td><td>199</td><td>1448</td><td>254</td><td>5</td><td>320</td><td>259</td><td>-21</td><td>0</td><td>0</td><td>&quot;Alaska Airline…</td><td>2015-01-01 00:25:00</td></tr></tbody></table></div>"
      ],
      "text/plain": [
       "shape: (5, 26)\n",
       "┌──────┬───────┬─────┬─────────────┬───┬──────────┬───────────┬────────────────────────┬──────────────────────────┐\n",
       "│ year ┆ month ┆ day ┆ day_of_week ┆ … ┆ diverted ┆ cancelled ┆ airline_right          ┆ scheduled_departure_time │\n",
       "│ ---  ┆ ---   ┆ --- ┆ ---         ┆   ┆ ---      ┆ ---       ┆ ---                    ┆ ---                      │\n",
       "│ i64  ┆ i64   ┆ i64 ┆ i64         ┆   ┆ i64      ┆ i64       ┆ str                    ┆ datetime[μs]             │\n",
       "╞══════╪═══════╪═════╪═════════════╪═══╪══════════╪═══════════╪════════════════════════╪══════════════════════════╡\n",
       "│ 2015 ┆ 1     ┆ 1   ┆ 4           ┆ … ┆ 0        ┆ 0         ┆ Alaska Airlines Inc.   ┆ 2015-01-01 00:05:00      │\n",
       "│ 2015 ┆ 1     ┆ 1   ┆ 4           ┆ … ┆ 0        ┆ 0         ┆ American Airlines Inc. ┆ 2015-01-01 00:10:00      │\n",
       "│ 2015 ┆ 1     ┆ 1   ┆ 4           ┆ … ┆ 0        ┆ 0         ┆ US Airways Inc.        ┆ 2015-01-01 00:20:00      │\n",
       "│ 2015 ┆ 1     ┆ 1   ┆ 4           ┆ … ┆ 0        ┆ 0         ┆ American Airlines Inc. ┆ 2015-01-01 00:20:00      │\n",
       "│ 2015 ┆ 1     ┆ 1   ┆ 4           ┆ … ┆ 0        ┆ 0         ┆ Alaska Airlines Inc.   ┆ 2015-01-01 00:25:00      │\n",
       "└──────┴───────┴─────┴─────────────┴───┴──────────┴───────────┴────────────────────────┴──────────────────────────┘"
      ]
     },
     "execution_count": 208,
     "metadata": {},
     "output_type": "execute_result"
    }
   ],
   "source": [
    "data = data.with_columns(\n",
    "    pl.col(\"scheduled_departure\").map_elements(lambda x : f\"{x:04d}\"[:-2]).alias(\"hh\")\n",
    ").with_columns(\n",
    "    pl.col(\"scheduled_departure\").map_elements(lambda x : f\"{x:04d}\"[-2:]).alias(\"mm\")\n",
    ").with_columns(\n",
    "    pl.datetime(\"year\", \"month\", \"day\", \"hh\", \"mm\").alias(\"scheduled_departure_time\")\n",
    ").drop(columns=[\"hh\", \"mm\", \"scheduled_departure\"])\n",
    "\n",
    "data.head()\n"
   ]
  },
  {
   "cell_type": "code",
   "execution_count": 210,
   "metadata": {},
   "outputs": [
    {
     "data": {
      "text/html": [
       "<div><style>\n",
       ".dataframe > thead > tr,\n",
       ".dataframe > tbody > tr {\n",
       "  text-align: right;\n",
       "  white-space: pre-wrap;\n",
       "}\n",
       "</style>\n",
       "<small>shape: (5, 26)</small><table border=\"1\" class=\"dataframe\"><thead><tr><th>year</th><th>month</th><th>day</th><th>day_of_week</th><th>airline</th><th>flight_number</th><th>tail_number</th><th>origin_airport</th><th>destination_airport</th><th>departure_delay</th><th>taxi_out</th><th>wheels_off</th><th>scheduled_time</th><th>elapsed_time</th><th>air_time</th><th>distance</th><th>wheels_on</th><th>taxi_in</th><th>scheduled_arrival</th><th>arrival_time</th><th>arrival_delay</th><th>diverted</th><th>cancelled</th><th>airline_right</th><th>scheduled_departure_time</th><th>actual_departure_time</th></tr><tr><td>i64</td><td>i64</td><td>i64</td><td>i64</td><td>str</td><td>i64</td><td>str</td><td>str</td><td>str</td><td>i64</td><td>i64</td><td>i64</td><td>i64</td><td>i64</td><td>i64</td><td>i64</td><td>i64</td><td>i64</td><td>i64</td><td>i64</td><td>i64</td><td>i64</td><td>i64</td><td>str</td><td>datetime[μs]</td><td>datetime[μs]</td></tr></thead><tbody><tr><td>2015</td><td>1</td><td>1</td><td>4</td><td>&quot;AS&quot;</td><td>98</td><td>&quot;N407AS&quot;</td><td>&quot;ANC&quot;</td><td>&quot;SEA&quot;</td><td>-11</td><td>21</td><td>15</td><td>205</td><td>194</td><td>169</td><td>1448</td><td>404</td><td>4</td><td>430</td><td>408</td><td>-22</td><td>0</td><td>0</td><td>&quot;Alaska Airline…</td><td>2015-01-01 00:05:00</td><td>2015-01-01 23:54:00</td></tr><tr><td>2015</td><td>1</td><td>1</td><td>4</td><td>&quot;AA&quot;</td><td>2336</td><td>&quot;N3KUAA&quot;</td><td>&quot;LAX&quot;</td><td>&quot;PBI&quot;</td><td>-8</td><td>12</td><td>14</td><td>280</td><td>279</td><td>263</td><td>2330</td><td>737</td><td>4</td><td>750</td><td>741</td><td>-9</td><td>0</td><td>0</td><td>&quot;American Airli…</td><td>2015-01-01 00:10:00</td><td>2015-01-01 00:02:00</td></tr><tr><td>2015</td><td>1</td><td>1</td><td>4</td><td>&quot;US&quot;</td><td>840</td><td>&quot;N171US&quot;</td><td>&quot;SFO&quot;</td><td>&quot;CLT&quot;</td><td>-2</td><td>16</td><td>34</td><td>286</td><td>293</td><td>266</td><td>2296</td><td>800</td><td>11</td><td>806</td><td>811</td><td>5</td><td>0</td><td>0</td><td>&quot;US Airways Inc…</td><td>2015-01-01 00:20:00</td><td>2015-01-01 00:18:00</td></tr><tr><td>2015</td><td>1</td><td>1</td><td>4</td><td>&quot;AA&quot;</td><td>258</td><td>&quot;N3HYAA&quot;</td><td>&quot;LAX&quot;</td><td>&quot;MIA&quot;</td><td>-5</td><td>15</td><td>30</td><td>285</td><td>281</td><td>258</td><td>2342</td><td>748</td><td>8</td><td>805</td><td>756</td><td>-9</td><td>0</td><td>0</td><td>&quot;American Airli…</td><td>2015-01-01 00:20:00</td><td>2015-01-01 00:15:00</td></tr><tr><td>2015</td><td>1</td><td>1</td><td>4</td><td>&quot;AS&quot;</td><td>135</td><td>&quot;N527AS&quot;</td><td>&quot;SEA&quot;</td><td>&quot;ANC&quot;</td><td>-1</td><td>11</td><td>35</td><td>235</td><td>215</td><td>199</td><td>1448</td><td>254</td><td>5</td><td>320</td><td>259</td><td>-21</td><td>0</td><td>0</td><td>&quot;Alaska Airline…</td><td>2015-01-01 00:25:00</td><td>2015-01-01 00:24:00</td></tr></tbody></table></div>"
      ],
      "text/plain": [
       "shape: (5, 26)\n",
       "┌──────┬───────┬─────┬─────────────┬───┬───────────┬────────────────────────┬──────────────────────────┬───────────────────────┐\n",
       "│ year ┆ month ┆ day ┆ day_of_week ┆ … ┆ cancelled ┆ airline_right          ┆ scheduled_departure_time ┆ actual_departure_time │\n",
       "│ ---  ┆ ---   ┆ --- ┆ ---         ┆   ┆ ---       ┆ ---                    ┆ ---                      ┆ ---                   │\n",
       "│ i64  ┆ i64   ┆ i64 ┆ i64         ┆   ┆ i64       ┆ str                    ┆ datetime[μs]             ┆ datetime[μs]          │\n",
       "╞══════╪═══════╪═════╪═════════════╪═══╪═══════════╪════════════════════════╪══════════════════════════╪═══════════════════════╡\n",
       "│ 2015 ┆ 1     ┆ 1   ┆ 4           ┆ … ┆ 0         ┆ Alaska Airlines Inc.   ┆ 2015-01-01 00:05:00      ┆ 2015-01-01 23:54:00   │\n",
       "│ 2015 ┆ 1     ┆ 1   ┆ 4           ┆ … ┆ 0         ┆ American Airlines Inc. ┆ 2015-01-01 00:10:00      ┆ 2015-01-01 00:02:00   │\n",
       "│ 2015 ┆ 1     ┆ 1   ┆ 4           ┆ … ┆ 0         ┆ US Airways Inc.        ┆ 2015-01-01 00:20:00      ┆ 2015-01-01 00:18:00   │\n",
       "│ 2015 ┆ 1     ┆ 1   ┆ 4           ┆ … ┆ 0         ┆ American Airlines Inc. ┆ 2015-01-01 00:20:00      ┆ 2015-01-01 00:15:00   │\n",
       "│ 2015 ┆ 1     ┆ 1   ┆ 4           ┆ … ┆ 0         ┆ Alaska Airlines Inc.   ┆ 2015-01-01 00:25:00      ┆ 2015-01-01 00:24:00   │\n",
       "└──────┴───────┴─────┴─────────────┴───┴───────────┴────────────────────────┴──────────────────────────┴───────────────────────┘"
      ]
     },
     "execution_count": 210,
     "metadata": {},
     "output_type": "execute_result"
    }
   ],
   "source": [
    "data = data.with_columns(\n",
    "    pl.col(\"departure_time\").map_elements(lambda x : f\"{x:04d}\"[:-2]).alias(\"hh\")\n",
    ").with_columns(\n",
    "    pl.col(\"departure_time\").map_elements(lambda x : f\"{x:04d}\"[-2:]).alias(\"mm\")\n",
    ").with_columns(\n",
    "    pl.datetime(\"year\", \"month\", \"day\", \"hh\", \"mm\").alias(\"actual_departure_time\")\n",
    ").drop(columns=[\"hh\", \"mm\", \"departure_time\"])\n",
    "\n",
    "data.head()"
   ]
  },
  {
   "cell_type": "code",
   "execution_count": 218,
   "metadata": {},
   "outputs": [
    {
     "data": {
      "text/html": [
       "<div><style>\n",
       ".dataframe > thead > tr,\n",
       ".dataframe > tbody > tr {\n",
       "  text-align: right;\n",
       "  white-space: pre-wrap;\n",
       "}\n",
       "</style>\n",
       "<small>shape: (2, 2)</small><table border=\"1\" class=\"dataframe\"><thead><tr><th>diverted</th><th>count</th></tr><tr><td>i64</td><td>u32</td></tr></thead><tbody><tr><td>1</td><td>15187</td></tr><tr><td>0</td><td>5803892</td></tr></tbody></table></div>"
      ],
      "text/plain": [
       "shape: (2, 2)\n",
       "┌──────────┬─────────┐\n",
       "│ diverted ┆ count   │\n",
       "│ ---      ┆ ---     │\n",
       "│ i64      ┆ u32     │\n",
       "╞══════════╪═════════╡\n",
       "│ 1        ┆ 15187   │\n",
       "│ 0        ┆ 5803892 │\n",
       "└──────────┴─────────┘"
      ]
     },
     "execution_count": 218,
     "metadata": {},
     "output_type": "execute_result"
    }
   ],
   "source": [
    "data['diverted'].value_counts()"
   ]
  },
  {
   "cell_type": "code",
   "execution_count": 219,
   "metadata": {},
   "outputs": [
    {
     "data": {
      "text/html": [
       "<div><style>\n",
       ".dataframe > thead > tr,\n",
       ".dataframe > tbody > tr {\n",
       "  text-align: right;\n",
       "  white-space: pre-wrap;\n",
       "}\n",
       "</style>\n",
       "<small>shape: (2, 2)</small><table border=\"1\" class=\"dataframe\"><thead><tr><th>cancelled</th><th>count</th></tr><tr><td>i64</td><td>u32</td></tr></thead><tbody><tr><td>1</td><td>89884</td></tr><tr><td>0</td><td>5729195</td></tr></tbody></table></div>"
      ],
      "text/plain": [
       "shape: (2, 2)\n",
       "┌───────────┬─────────┐\n",
       "│ cancelled ┆ count   │\n",
       "│ ---       ┆ ---     │\n",
       "│ i64       ┆ u32     │\n",
       "╞═══════════╪═════════╡\n",
       "│ 1         ┆ 89884   │\n",
       "│ 0         ┆ 5729195 │\n",
       "└───────────┴─────────┘"
      ]
     },
     "execution_count": 219,
     "metadata": {},
     "output_type": "execute_result"
    }
   ],
   "source": [
    "data['cancelled'].value_counts()"
   ]
  }
 ],
 "metadata": {
  "kernelspec": {
   "display_name": ".venv",
   "language": "python",
   "name": "python3"
  },
  "language_info": {
   "codemirror_mode": {
    "name": "ipython",
    "version": 3
   },
   "file_extension": ".py",
   "mimetype": "text/x-python",
   "name": "python",
   "nbconvert_exporter": "python",
   "pygments_lexer": "ipython3",
   "version": "3.10.13"
  }
 },
 "nbformat": 4,
 "nbformat_minor": 2
}
