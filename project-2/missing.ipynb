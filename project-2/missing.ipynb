{
 "cells": [
  {
   "cell_type": "code",
   "execution_count": 1,
   "metadata": {},
   "outputs": [],
   "source": [
    "import pandas as pd\n",
    "import numpy as np\n",
    "import gspread\n",
    "import matplotlib.pyplot as plt\n",
    "import seaborn as sns\n",
    "\n",
    "pd.set_option('display.max_columns', None)\n",
    "\n",
    "import warnings\n",
    "warnings.filterwarnings('ignore')"
   ]
  },
  {
   "cell_type": "code",
   "execution_count": 2,
   "metadata": {},
   "outputs": [],
   "source": [
    "gc = gspread.service_account(filename='/home/gbotemi/Documents/gbotemi_bolarinwa/project-1/secret.json') # use your google service file account here\n",
    "file = \"https://docs.google.com/spreadsheets/d/1SUlcukpgxf6pfFQbj6DKQZXSlOhyBOSuBdbmQ2ZbhTM/edit?usp=sharing\"\n",
    "\n",
    "sh = gc.open_by_url(file)\n",
    "worksheet = sh.get_worksheet(0)\n",
    "df = pd.DataFrame(worksheet.get_all_records())"
   ]
  },
  {
   "cell_type": "code",
   "execution_count": 32,
   "metadata": {},
   "outputs": [
    {
     "name": "stdout",
     "output_type": "stream",
     "text": [
      "<class 'pandas.core.frame.DataFrame'>\n",
      "RangeIndex: 15364 entries, 0 to 15363\n",
      "Data columns (total 43 columns):\n",
      " #   Column                                  Non-Null Count  Dtype  \n",
      "---  ------                                  --------------  -----  \n",
      " 0   permit number                           15364 non-null  object \n",
      " 1   permit type                             15364 non-null  int64  \n",
      " 2   permit type definition                  15364 non-null  object \n",
      " 3   permit creation date                    15364 non-null  object \n",
      " 4   block                                   15364 non-null  object \n",
      " 5   lot                                     15364 non-null  object \n",
      " 6   street number                           15364 non-null  int64  \n",
      " 7   street number suffix                    15364 non-null  object \n",
      " 8   street name                             15364 non-null  object \n",
      " 9   street suffix                           15364 non-null  object \n",
      " 10  unit                                    15364 non-null  object \n",
      " 11  unit suffix                             15364 non-null  object \n",
      " 12  description                             15364 non-null  object \n",
      " 13  current status                          15364 non-null  object \n",
      " 14  current status date                     15364 non-null  object \n",
      " 15  filed date                              15364 non-null  object \n",
      " 16  issued date                             15364 non-null  object \n",
      " 17  completed date                          15364 non-null  object \n",
      " 18  first construction document date        15364 non-null  object \n",
      " 19  structural notification                 15364 non-null  object \n",
      " 20  number of existing stories              15364 non-null  object \n",
      " 21  number of proposed stories              15364 non-null  object \n",
      " 22  voluntary soft-story retrofit           15364 non-null  object \n",
      " 23  fire only permit                        15364 non-null  object \n",
      " 24  permit expiration date                  15364 non-null  object \n",
      " 25  estimated cost                          15364 non-null  object \n",
      " 26  revised cost                            15364 non-null  object \n",
      " 27  existing use                            15364 non-null  object \n",
      " 28  existing units                          15364 non-null  object \n",
      " 29  proposed use                            15364 non-null  object \n",
      " 30  proposed units                          15364 non-null  object \n",
      " 31  plansets                                15364 non-null  object \n",
      " 32  tidf compliance                         15364 non-null  object \n",
      " 33  existing construction type              15364 non-null  object \n",
      " 34  existing construction type description  15364 non-null  object \n",
      " 35  proposed construction type              15364 non-null  object \n",
      " 36  proposed construction type description  15364 non-null  object \n",
      " 37  site permit                             15364 non-null  object \n",
      " 38  supervisor district                     15364 non-null  object \n",
      " 39  neighborhoods - analysis boundaries     15364 non-null  object \n",
      " 40  zipcode                                 15364 non-null  object \n",
      " 41  location                                15364 non-null  object \n",
      " 42  record id                               15364 non-null  float64\n",
      "dtypes: float64(1), int64(2), object(40)\n",
      "memory usage: 5.0+ MB\n"
     ]
    }
   ],
   "source": [
    "data = df.copy() # keep a copy of the original dataframe\n",
    "data.columns = data.columns.str.lower() # lower columns values\n",
    "data.info()"
   ]
  },
  {
   "cell_type": "code",
   "execution_count": 33,
   "metadata": {},
   "outputs": [
    {
     "data": {
      "text/plain": [
       "(15364, 43)"
      ]
     },
     "execution_count": 33,
     "metadata": {},
     "output_type": "execute_result"
    }
   ],
   "source": [
    "data.shape"
   ]
  },
  {
   "cell_type": "code",
   "execution_count": 34,
   "metadata": {},
   "outputs": [
    {
     "data": {
      "text/html": [
       "<div>\n",
       "<style scoped>\n",
       "    .dataframe tbody tr th:only-of-type {\n",
       "        vertical-align: middle;\n",
       "    }\n",
       "\n",
       "    .dataframe tbody tr th {\n",
       "        vertical-align: top;\n",
       "    }\n",
       "\n",
       "    .dataframe thead th {\n",
       "        text-align: right;\n",
       "    }\n",
       "</style>\n",
       "<table border=\"1\" class=\"dataframe\">\n",
       "  <thead>\n",
       "    <tr style=\"text-align: right;\">\n",
       "      <th></th>\n",
       "      <th>permit number</th>\n",
       "      <th>permit type</th>\n",
       "      <th>permit type definition</th>\n",
       "      <th>permit creation date</th>\n",
       "      <th>block</th>\n",
       "      <th>lot</th>\n",
       "      <th>street number</th>\n",
       "      <th>street number suffix</th>\n",
       "      <th>street name</th>\n",
       "      <th>street suffix</th>\n",
       "      <th>unit</th>\n",
       "      <th>unit suffix</th>\n",
       "      <th>description</th>\n",
       "      <th>current status</th>\n",
       "      <th>current status date</th>\n",
       "      <th>filed date</th>\n",
       "      <th>issued date</th>\n",
       "      <th>completed date</th>\n",
       "      <th>first construction document date</th>\n",
       "      <th>structural notification</th>\n",
       "      <th>number of existing stories</th>\n",
       "      <th>number of proposed stories</th>\n",
       "      <th>voluntary soft-story retrofit</th>\n",
       "      <th>fire only permit</th>\n",
       "      <th>permit expiration date</th>\n",
       "      <th>estimated cost</th>\n",
       "      <th>revised cost</th>\n",
       "      <th>existing use</th>\n",
       "      <th>existing units</th>\n",
       "      <th>proposed use</th>\n",
       "      <th>proposed units</th>\n",
       "      <th>plansets</th>\n",
       "      <th>tidf compliance</th>\n",
       "      <th>existing construction type</th>\n",
       "      <th>existing construction type description</th>\n",
       "      <th>proposed construction type</th>\n",
       "      <th>proposed construction type description</th>\n",
       "      <th>site permit</th>\n",
       "      <th>supervisor district</th>\n",
       "      <th>neighborhoods - analysis boundaries</th>\n",
       "      <th>zipcode</th>\n",
       "      <th>location</th>\n",
       "      <th>record id</th>\n",
       "    </tr>\n",
       "  </thead>\n",
       "  <tbody>\n",
       "    <tr>\n",
       "      <th>0</th>\n",
       "      <td>201505000000.0</td>\n",
       "      <td>4</td>\n",
       "      <td>sign - erect</td>\n",
       "      <td>05/06/2015</td>\n",
       "      <td>326</td>\n",
       "      <td>23</td>\n",
       "      <td>140</td>\n",
       "      <td></td>\n",
       "      <td>Ellis</td>\n",
       "      <td>St</td>\n",
       "      <td></td>\n",
       "      <td></td>\n",
       "      <td>ground fl facade: to erect illuminated, electr...</td>\n",
       "      <td>expired</td>\n",
       "      <td>12/21/2017</td>\n",
       "      <td>05/06/2015</td>\n",
       "      <td>11/09/2015</td>\n",
       "      <td></td>\n",
       "      <td>11/09/2015</td>\n",
       "      <td></td>\n",
       "      <td>6</td>\n",
       "      <td></td>\n",
       "      <td></td>\n",
       "      <td></td>\n",
       "      <td>11/03/2016</td>\n",
       "      <td>4000</td>\n",
       "      <td>4000</td>\n",
       "      <td>tourist hotel/motel</td>\n",
       "      <td>143</td>\n",
       "      <td></td>\n",
       "      <td></td>\n",
       "      <td>2</td>\n",
       "      <td></td>\n",
       "      <td>3</td>\n",
       "      <td>constr type 3</td>\n",
       "      <td></td>\n",
       "      <td></td>\n",
       "      <td></td>\n",
       "      <td>3</td>\n",
       "      <td>Tenderloin</td>\n",
       "      <td>94102</td>\n",
       "      <td>(37.785719256680785, -122.40852313194863)</td>\n",
       "      <td>1.380610e+12</td>\n",
       "    </tr>\n",
       "    <tr>\n",
       "      <th>1</th>\n",
       "      <td>201604000000.0</td>\n",
       "      <td>4</td>\n",
       "      <td>sign - erect</td>\n",
       "      <td>04/19/2016</td>\n",
       "      <td>306</td>\n",
       "      <td>7</td>\n",
       "      <td>440</td>\n",
       "      <td></td>\n",
       "      <td>Geary</td>\n",
       "      <td>St</td>\n",
       "      <td>0</td>\n",
       "      <td></td>\n",
       "      <td>remove (e) awning and associated signs.</td>\n",
       "      <td>issued</td>\n",
       "      <td>08/03/2017</td>\n",
       "      <td>04/19/2016</td>\n",
       "      <td>08/03/2017</td>\n",
       "      <td></td>\n",
       "      <td>08/03/2017</td>\n",
       "      <td></td>\n",
       "      <td>7</td>\n",
       "      <td></td>\n",
       "      <td></td>\n",
       "      <td></td>\n",
       "      <td>12/03/2017</td>\n",
       "      <td>1</td>\n",
       "      <td>500</td>\n",
       "      <td>tourist hotel/motel</td>\n",
       "      <td></td>\n",
       "      <td></td>\n",
       "      <td></td>\n",
       "      <td>2</td>\n",
       "      <td></td>\n",
       "      <td>3</td>\n",
       "      <td>constr type 3</td>\n",
       "      <td></td>\n",
       "      <td></td>\n",
       "      <td></td>\n",
       "      <td>3</td>\n",
       "      <td>Tenderloin</td>\n",
       "      <td>94102</td>\n",
       "      <td>(37.78733980600732, -122.41063199757738)</td>\n",
       "      <td>1.420160e+12</td>\n",
       "    </tr>\n",
       "    <tr>\n",
       "      <th>2</th>\n",
       "      <td>201605000000.0</td>\n",
       "      <td>3</td>\n",
       "      <td>additions alterations or repairs</td>\n",
       "      <td>05/27/2016</td>\n",
       "      <td>595</td>\n",
       "      <td>203</td>\n",
       "      <td>1647</td>\n",
       "      <td></td>\n",
       "      <td>Pacific</td>\n",
       "      <td>Av</td>\n",
       "      <td></td>\n",
       "      <td></td>\n",
       "      <td>installation of separating wall</td>\n",
       "      <td>withdrawn</td>\n",
       "      <td>09/26/2017</td>\n",
       "      <td>05/27/2016</td>\n",
       "      <td></td>\n",
       "      <td></td>\n",
       "      <td></td>\n",
       "      <td></td>\n",
       "      <td>6</td>\n",
       "      <td>6</td>\n",
       "      <td></td>\n",
       "      <td></td>\n",
       "      <td></td>\n",
       "      <td>20000</td>\n",
       "      <td></td>\n",
       "      <td>retail sales</td>\n",
       "      <td>39</td>\n",
       "      <td>retail sales</td>\n",
       "      <td>39</td>\n",
       "      <td>2</td>\n",
       "      <td></td>\n",
       "      <td>1</td>\n",
       "      <td>constr type 1</td>\n",
       "      <td>1</td>\n",
       "      <td>constr type 1</td>\n",
       "      <td></td>\n",
       "      <td>3</td>\n",
       "      <td>Russian Hill</td>\n",
       "      <td>94109</td>\n",
       "      <td>(37.7946573324287, -122.42232562979227)</td>\n",
       "      <td>1.424860e+12</td>\n",
       "    </tr>\n",
       "    <tr>\n",
       "      <th>3</th>\n",
       "      <td>201611000000.0</td>\n",
       "      <td>8</td>\n",
       "      <td>otc alterations permit</td>\n",
       "      <td>11/07/2016</td>\n",
       "      <td>156</td>\n",
       "      <td>11</td>\n",
       "      <td>1230</td>\n",
       "      <td></td>\n",
       "      <td>Pacific</td>\n",
       "      <td>Av</td>\n",
       "      <td>0</td>\n",
       "      <td></td>\n",
       "      <td>repair dryrot &amp; stucco at front of bldg.</td>\n",
       "      <td>complete</td>\n",
       "      <td>07/24/2017</td>\n",
       "      <td>11/07/2016</td>\n",
       "      <td>07/18/2017</td>\n",
       "      <td>07/24/2017</td>\n",
       "      <td>07/18/2017</td>\n",
       "      <td></td>\n",
       "      <td>2</td>\n",
       "      <td>2</td>\n",
       "      <td></td>\n",
       "      <td></td>\n",
       "      <td>07/13/2018</td>\n",
       "      <td>2000</td>\n",
       "      <td>2000</td>\n",
       "      <td>1 family dwelling</td>\n",
       "      <td>1</td>\n",
       "      <td>1 family dwelling</td>\n",
       "      <td>1</td>\n",
       "      <td>2</td>\n",
       "      <td></td>\n",
       "      <td>5</td>\n",
       "      <td>wood frame (5)</td>\n",
       "      <td>5</td>\n",
       "      <td>wood frame (5)</td>\n",
       "      <td></td>\n",
       "      <td>3</td>\n",
       "      <td>Nob Hill</td>\n",
       "      <td>94109</td>\n",
       "      <td>(37.79595867909168, -122.41557405519474)</td>\n",
       "      <td>1.443570e+12</td>\n",
       "    </tr>\n",
       "    <tr>\n",
       "      <th>4</th>\n",
       "      <td>201611000000.0</td>\n",
       "      <td>6</td>\n",
       "      <td>demolitions</td>\n",
       "      <td>11/28/2016</td>\n",
       "      <td>342</td>\n",
       "      <td>1</td>\n",
       "      <td>950</td>\n",
       "      <td></td>\n",
       "      <td>Market</td>\n",
       "      <td>St</td>\n",
       "      <td></td>\n",
       "      <td></td>\n",
       "      <td>demolish retail/office/commercial 3-story buil...</td>\n",
       "      <td>issued</td>\n",
       "      <td>12/01/2017</td>\n",
       "      <td>11/28/2016</td>\n",
       "      <td>12/01/2017</td>\n",
       "      <td></td>\n",
       "      <td>11/20/2017</td>\n",
       "      <td></td>\n",
       "      <td>3</td>\n",
       "      <td></td>\n",
       "      <td></td>\n",
       "      <td></td>\n",
       "      <td>12/01/2018</td>\n",
       "      <td>100000</td>\n",
       "      <td>100000</td>\n",
       "      <td>retail sales</td>\n",
       "      <td></td>\n",
       "      <td></td>\n",
       "      <td></td>\n",
       "      <td>2</td>\n",
       "      <td></td>\n",
       "      <td>3</td>\n",
       "      <td>constr type 3</td>\n",
       "      <td></td>\n",
       "      <td></td>\n",
       "      <td></td>\n",
       "      <td>6</td>\n",
       "      <td>Tenderloin</td>\n",
       "      <td>94102</td>\n",
       "      <td>(37.78315261897309, -122.40950883997789)</td>\n",
       "      <td>1.445480e+11</td>\n",
       "    </tr>\n",
       "  </tbody>\n",
       "</table>\n",
       "</div>"
      ],
      "text/plain": [
       "    permit number  permit type            permit type definition  \\\n",
       "0  201505000000.0            4                      sign - erect   \n",
       "1  201604000000.0            4                      sign - erect   \n",
       "2  201605000000.0            3  additions alterations or repairs   \n",
       "3  201611000000.0            8            otc alterations permit   \n",
       "4  201611000000.0            6                       demolitions   \n",
       "\n",
       "  permit creation date block  lot  street number street number suffix  \\\n",
       "0           05/06/2015   326   23            140                        \n",
       "1           04/19/2016   306    7            440                        \n",
       "2           05/27/2016   595  203           1647                        \n",
       "3           11/07/2016   156   11           1230                        \n",
       "4           11/28/2016   342    1            950                        \n",
       "\n",
       "  street name street suffix unit unit suffix  \\\n",
       "0       Ellis            St                    \n",
       "1       Geary            St    0               \n",
       "2     Pacific            Av                    \n",
       "3     Pacific            Av    0               \n",
       "4      Market            St                    \n",
       "\n",
       "                                         description current status  \\\n",
       "0  ground fl facade: to erect illuminated, electr...        expired   \n",
       "1            remove (e) awning and associated signs.         issued   \n",
       "2                    installation of separating wall      withdrawn   \n",
       "3           repair dryrot & stucco at front of bldg.       complete   \n",
       "4  demolish retail/office/commercial 3-story buil...         issued   \n",
       "\n",
       "  current status date  filed date issued date completed date  \\\n",
       "0          12/21/2017  05/06/2015  11/09/2015                  \n",
       "1          08/03/2017  04/19/2016  08/03/2017                  \n",
       "2          09/26/2017  05/27/2016                              \n",
       "3          07/24/2017  11/07/2016  07/18/2017     07/24/2017   \n",
       "4          12/01/2017  11/28/2016  12/01/2017                  \n",
       "\n",
       "  first construction document date structural notification  \\\n",
       "0                       11/09/2015                           \n",
       "1                       08/03/2017                           \n",
       "2                                                            \n",
       "3                       07/18/2017                           \n",
       "4                       11/20/2017                           \n",
       "\n",
       "  number of existing stories number of proposed stories  \\\n",
       "0                          6                              \n",
       "1                          7                              \n",
       "2                          6                          6   \n",
       "3                          2                          2   \n",
       "4                          3                              \n",
       "\n",
       "  voluntary soft-story retrofit fire only permit permit expiration date  \\\n",
       "0                                                            11/03/2016   \n",
       "1                                                            12/03/2017   \n",
       "2                                                                         \n",
       "3                                                            07/13/2018   \n",
       "4                                                            12/01/2018   \n",
       "\n",
       "  estimated cost revised cost         existing use existing units  \\\n",
       "0           4000         4000  tourist hotel/motel            143   \n",
       "1              1          500  tourist hotel/motel                  \n",
       "2          20000                      retail sales             39   \n",
       "3           2000         2000    1 family dwelling              1   \n",
       "4         100000       100000         retail sales                  \n",
       "\n",
       "        proposed use proposed units plansets tidf compliance  \\\n",
       "0                                          2                   \n",
       "1                                          2                   \n",
       "2       retail sales             39        2                   \n",
       "3  1 family dwelling              1        2                   \n",
       "4                                          2                   \n",
       "\n",
       "  existing construction type existing construction type description  \\\n",
       "0                          3                          constr type 3   \n",
       "1                          3                          constr type 3   \n",
       "2                          1                          constr type 1   \n",
       "3                          5                         wood frame (5)   \n",
       "4                          3                          constr type 3   \n",
       "\n",
       "  proposed construction type proposed construction type description  \\\n",
       "0                                                                     \n",
       "1                                                                     \n",
       "2                          1                          constr type 1   \n",
       "3                          5                         wood frame (5)   \n",
       "4                                                                     \n",
       "\n",
       "  site permit supervisor district neighborhoods - analysis boundaries zipcode  \\\n",
       "0                               3                          Tenderloin   94102   \n",
       "1                               3                          Tenderloin   94102   \n",
       "2                               3                        Russian Hill   94109   \n",
       "3                               3                            Nob Hill   94109   \n",
       "4                               6                          Tenderloin   94102   \n",
       "\n",
       "                                    location     record id  \n",
       "0  (37.785719256680785, -122.40852313194863)  1.380610e+12  \n",
       "1   (37.78733980600732, -122.41063199757738)  1.420160e+12  \n",
       "2    (37.7946573324287, -122.42232562979227)  1.424860e+12  \n",
       "3   (37.79595867909168, -122.41557405519474)  1.443570e+12  \n",
       "4   (37.78315261897309, -122.40950883997789)  1.445480e+11  "
      ]
     },
     "execution_count": 34,
     "metadata": {},
     "output_type": "execute_result"
    }
   ],
   "source": [
    "data.head()"
   ]
  },
  {
   "cell_type": "code",
   "execution_count": 35,
   "metadata": {},
   "outputs": [],
   "source": [
    "data = data.replace(\"\", np.nan) #replace empty strings with numpy nan values"
   ]
  },
  {
   "cell_type": "code",
   "execution_count": 38,
   "metadata": {},
   "outputs": [],
   "source": [
    "def check_missing_cols(data: pd.DataFrame) -> list:\n",
    "    \"\"\"\n",
    "    check missing columns and return result in percentage\n",
    "    \"\"\"\n",
    "    sum_of_missing_data = data.isna().sum()\n",
    "    missing_col_dict = sum_of_missing_data.to_dict()\n",
    "    # missing_col_dict\n",
    "    \n",
    "    missing_cols = [idx for idx in missing_col_dict.keys() if int(missing_col_dict[idx]) > 0]\n",
    "    print((data[missing_cols].isna().sum() / len(data)) * 100)\n",
    "\n",
    "    return None\n",
    "    "
   ]
  },
  {
   "cell_type": "code",
   "execution_count": 39,
   "metadata": {},
   "outputs": [
    {
     "name": "stdout",
     "output_type": "stream",
     "text": [
      "street number suffix                       98.958605\n",
      "street suffix                               1.262692\n",
      "unit                                       86.025775\n",
      "unit suffix                                98.834939\n",
      "description                                 0.162718\n",
      "issued date                                 4.133038\n",
      "completed date                             40.581880\n",
      "first construction document date            4.159073\n",
      "structural notification                    96.953918\n",
      "number of existing stories                 20.756313\n",
      "number of proposed stories                 22.038532\n",
      "voluntary soft-story retrofit              99.928404\n",
      "fire only permit                           90.751106\n",
      "permit expiration date                     22.520177\n",
      "estimated cost                             18.790680\n",
      "revised cost                                1.607654\n",
      "existing use                               20.164020\n",
      "existing units                             25.494663\n",
      "proposed use                               21.693569\n",
      "proposed units                             26.152044\n",
      "plansets                                   18.582400\n",
      "tidf compliance                           100.000000\n",
      "existing construction type                 21.088258\n",
      "existing construction type description     21.088258\n",
      "proposed construction type                 22.240302\n",
      "proposed construction type description     22.240302\n",
      "site permit                                98.073418\n",
      "supervisor district                         0.774538\n",
      "neighborhoods - analysis boundaries         0.774538\n",
      "zipcode                                     0.774538\n",
      "location                                    0.768029\n",
      "dtype: float64\n"
     ]
    }
   ],
   "source": [
    "check_missing_cols(data)"
   ]
  },
  {
   "cell_type": "markdown",
   "metadata": {},
   "source": [
    "### Handling Datetime data"
   ]
  },
  {
   "cell_type": "code",
   "execution_count": 42,
   "metadata": {},
   "outputs": [],
   "source": [
    "# convert date time features into datetime object\n",
    "\n",
    "data[\"issued date\"] = pd.to_datetime(data[\"issued date\"])\n",
    "data[\"completed date\"] = pd.to_datetime(data[\"completed date\"])\n",
    "data[\"first construction document date\"] = pd.to_datetime(data[\"first construction document date\"])\n",
    "data[\"completed date\"] = pd.to_datetime(data[\"completed date\"])\n",
    "data[\"permit expiration date\"] = pd.to_datetime(data[\"permit expiration date\"])\n",
    "data[\"permit creation date\"] = pd.to_datetime(data[\"permit creation date\"])\n",
    "data[\"filed date\"] = pd.to_datetime(data[\"filed date\"])"
   ]
  },
  {
   "cell_type": "code",
   "execution_count": 43,
   "metadata": {},
   "outputs": [
    {
     "name": "stdout",
     "output_type": "stream",
     "text": [
      "success...\n"
     ]
    }
   ],
   "source": [
    "# select datatime object and store it in a list\n",
    "date_cols = data.select_dtypes(include=\"datetime\").columns\n",
    "date_cols_list = date_cols.to_list()\n",
    "\n",
    "for idx in date_cols_list:\n",
    "    mode = data[idx].mode()[0] # store the mode of the index cols \n",
    "    data[idx].fillna(mode, inplace=True) # fill the missing rows with the mode\n",
    "print(\"success...\")"
   ]
  },
  {
   "cell_type": "code",
   "execution_count": 44,
   "metadata": {},
   "outputs": [
    {
     "name": "stdout",
     "output_type": "stream",
     "text": [
      "street number suffix                       98.958605\n",
      "street suffix                               1.262692\n",
      "unit                                       86.025775\n",
      "unit suffix                                98.834939\n",
      "description                                 0.162718\n",
      "structural notification                    96.953918\n",
      "number of existing stories                 20.756313\n",
      "number of proposed stories                 22.038532\n",
      "voluntary soft-story retrofit              99.928404\n",
      "fire only permit                           90.751106\n",
      "estimated cost                             18.790680\n",
      "revised cost                                1.607654\n",
      "existing use                               20.164020\n",
      "existing units                             25.494663\n",
      "proposed use                               21.693569\n",
      "proposed units                             26.152044\n",
      "plansets                                   18.582400\n",
      "tidf compliance                           100.000000\n",
      "existing construction type                 21.088258\n",
      "existing construction type description     21.088258\n",
      "proposed construction type                 22.240302\n",
      "proposed construction type description     22.240302\n",
      "site permit                                98.073418\n",
      "supervisor district                         0.774538\n",
      "neighborhoods - analysis boundaries         0.774538\n",
      "zipcode                                     0.774538\n",
      "location                                    0.768029\n",
      "dtype: float64\n"
     ]
    }
   ],
   "source": [
    "check_missing_cols(data)"
   ]
  },
  {
   "cell_type": "markdown",
   "metadata": {},
   "source": [
    "### Handling Large missing data"
   ]
  },
  {
   "cell_type": "markdown",
   "metadata": {},
   "source": [
    "Drop missing data that are over 60%   \n",
    "https://www.sciencedirect.com/science/article/pii/S0895435618308710#:~:text=Statistical%20guidance%20articles%20have%20stated,18%5D%2C%20%5B19%5D."
   ]
  },
  {
   "cell_type": "code",
   "execution_count": 45,
   "metadata": {},
   "outputs": [],
   "source": [
    "# store large missing values greater than 60% in a dictionary and then store the columns in a list\n",
    "large_missing_dict = ((data.isna().sum() / len(data)) * 100).to_dict() \n",
    "large_missing_cols = [idx for idx in large_missing_dict.keys() if large_missing_dict.get(idx) > 60]"
   ]
  },
  {
   "cell_type": "code",
   "execution_count": 46,
   "metadata": {},
   "outputs": [],
   "source": [
    "data = data.drop(columns=large_missing_cols) # drop features missing more than 60%"
   ]
  },
  {
   "cell_type": "code",
   "execution_count": 47,
   "metadata": {},
   "outputs": [
    {
     "name": "stdout",
     "output_type": "stream",
     "text": [
      "street suffix                              1.262692\n",
      "description                                0.162718\n",
      "number of existing stories                20.756313\n",
      "number of proposed stories                22.038532\n",
      "estimated cost                            18.790680\n",
      "revised cost                               1.607654\n",
      "existing use                              20.164020\n",
      "existing units                            25.494663\n",
      "proposed use                              21.693569\n",
      "proposed units                            26.152044\n",
      "plansets                                  18.582400\n",
      "existing construction type                21.088258\n",
      "existing construction type description    21.088258\n",
      "proposed construction type                22.240302\n",
      "proposed construction type description    22.240302\n",
      "supervisor district                        0.774538\n",
      "neighborhoods - analysis boundaries        0.774538\n",
      "zipcode                                    0.774538\n",
      "location                                   0.768029\n",
      "dtype: float64\n"
     ]
    }
   ],
   "source": [
    "check_missing_cols(data)"
   ]
  },
  {
   "cell_type": "markdown",
   "metadata": {},
   "source": [
    "### Handling Duplicates"
   ]
  },
  {
   "cell_type": "code",
   "execution_count": 48,
   "metadata": {},
   "outputs": [],
   "source": [
    "print(f\"No of duplicates: {data.duplicated().sum()}\") # check for duplicates\n",
    "data = data.drop_duplicates(keep=\"first\") # drop duplicated data"
   ]
  },
  {
   "cell_type": "markdown",
   "metadata": {},
   "source": [
    "### Handling missing data less than 60%"
   ]
  },
  {
   "cell_type": "code",
   "execution_count": 49,
   "metadata": {},
   "outputs": [],
   "source": [
    "# store missing values lesser than 60% in a dictionary and then store the columns in a list\n",
    "\n",
    "small_missing_dict = ((data.isna().sum() / len(data)) * 100).to_dict()\n",
    "small_missing_cols = [idx for idx in small_missing_dict.keys() if small_missing_dict.get(idx) > 0]"
   ]
  },
  {
   "cell_type": "code",
   "execution_count": 50,
   "metadata": {},
   "outputs": [
    {
     "data": {
      "text/plain": [
       "zipcode                                119\n",
       "location                               118\n",
       "neighborhoods - analysis boundaries    119\n",
       "dtype: int64"
      ]
     },
     "execution_count": 50,
     "metadata": {},
     "output_type": "execute_result"
    }
   ],
   "source": [
    "data[[\"zipcode\", \"location\", \"neighborhoods - analysis boundaries\"]].isna().sum()\n",
    "# looks like the following columns are correlated and would be best to drop the missing values. Imputing geolocation data might not be a very good idea"
   ]
  },
  {
   "cell_type": "code",
   "execution_count": 52,
   "metadata": {},
   "outputs": [],
   "source": [
    "# dropping empty geolocation data (zipcode, location and neighborhoods - analysis boundaries)\n",
    "data = data[(data['location'].notnull()) & (data['zipcode'].notnull()) & (data['neighborhoods - analysis boundaries'].notnull())] "
   ]
  },
  {
   "cell_type": "code",
   "execution_count": 53,
   "metadata": {},
   "outputs": [],
   "source": [
    "data['description'] = data['description'].fillna(\"Unknown\") # filling unknown for description data"
   ]
  },
  {
   "cell_type": "code",
   "execution_count": 54,
   "metadata": {},
   "outputs": [
    {
     "name": "stdout",
     "output_type": "stream",
     "text": [
      "street suffix                              1.261913\n",
      "number of existing stories                20.644101\n",
      "number of proposed stories                21.846862\n",
      "estimated cost                            18.665790\n",
      "revised cost                               1.623398\n",
      "existing use                              20.046007\n",
      "existing units                            25.363128\n",
      "proposed use                              21.498521\n",
      "proposed units                            25.967795\n",
      "plansets                                  18.455472\n",
      "existing construction type                20.979297\n",
      "existing construction type description    20.979297\n",
      "proposed construction type                22.050608\n",
      "proposed construction type description    22.050608\n",
      "dtype: float64\n"
     ]
    }
   ],
   "source": [
    "check_missing_cols(data)"
   ]
  },
  {
   "cell_type": "markdown",
   "metadata": {},
   "source": [
    "### Using MICEFOREST to handle the rest of the missing data"
   ]
  },
  {
   "cell_type": "code",
   "execution_count": 20,
   "metadata": {},
   "outputs": [],
   "source": [
    "from miceforest import ImputationKernel"
   ]
  },
  {
   "cell_type": "code",
   "execution_count": 55,
   "metadata": {},
   "outputs": [],
   "source": [
    "# convert object cols to catgorical columns\n",
    "object_cols = data.select_dtypes(include=\"object\").columns\n",
    "data[object_cols] = data[object_cols].astype(\"category\")"
   ]
  },
  {
   "cell_type": "code",
   "execution_count": 56,
   "metadata": {},
   "outputs": [],
   "source": [
    "# miceforest cant handle datetime object, dropping the datetime features will be better\n",
    "impute_data = data.select_dtypes(exclude=\"datetime\")"
   ]
  },
  {
   "cell_type": "code",
   "execution_count": 57,
   "metadata": {},
   "outputs": [],
   "source": [
    "# run miceforest imputationalkernel on the impute data\n",
    "mice_kernel = ImputationKernel(data=impute_data, save_all_iterations=True, random_state=42)\n",
    "mice_kernel.mice(2, n_jobs=2)"
   ]
  },
  {
   "cell_type": "code",
   "execution_count": 58,
   "metadata": {},
   "outputs": [
    {
     "data": {
      "text/plain": [
       "<bound method ImputedData.complete_data of               Class: ImputationKernel\n",
       "           Datasets: 5\n",
       "         Iterations: 2\n",
       "  Imputed Variables: 14\n",
       "save_all_iterations: True>"
      ]
     },
     "execution_count": 58,
     "metadata": {},
     "output_type": "execute_result"
    }
   ],
   "source": [
    "mice_kernel.complete_data"
   ]
  },
  {
   "cell_type": "code",
   "execution_count": 59,
   "metadata": {},
   "outputs": [],
   "source": [
    "mice_col = mice_kernel.complete_data(4).columns.to_list() # get the col of the data that imputed with miceforest\n",
    "data[mice_col] = mice_kernel.complete_data(4) # fill the data with miceforest results"
   ]
  },
  {
   "cell_type": "code",
   "execution_count": 61,
   "metadata": {},
   "outputs": [
    {
     "data": {
      "image/png": "[encoded data removed]",
      "text/plain": [
       "<Figure size 640x480 with 9 Axes>"
      ]
     },
     "metadata": {},
     "output_type": "display_data"
    }
   ],
   "source": [
    "mice_kernel.plot_imputed_distributions(wspace=0.3,hspace=0.3) # plot imputed distribution of the imputed data"
   ]
  },
  {
   "cell_type": "code",
   "execution_count": 64,
   "metadata": {},
   "outputs": [
    {
     "data": {
      "text/plain": [
       "permit number                             0\n",
       "permit type                               0\n",
       "permit type definition                    0\n",
       "permit creation date                      0\n",
       "block                                     0\n",
       "lot                                       0\n",
       "street number                             0\n",
       "street name                               0\n",
       "street suffix                             0\n",
       "description                               0\n",
       "current status                            0\n",
       "current status date                       0\n",
       "filed date                                0\n",
       "issued date                               0\n",
       "completed date                            0\n",
       "first construction document date          0\n",
       "number of existing stories                0\n",
       "number of proposed stories                0\n",
       "permit expiration date                    0\n",
       "estimated cost                            0\n",
       "revised cost                              0\n",
       "existing use                              0\n",
       "existing units                            0\n",
       "proposed use                              0\n",
       "proposed units                            0\n",
       "plansets                                  0\n",
       "existing construction type                0\n",
       "existing construction type description    0\n",
       "proposed construction type                0\n",
       "proposed construction type description    0\n",
       "supervisor district                       0\n",
       "neighborhoods - analysis boundaries       0\n",
       "zipcode                                   0\n",
       "location                                  0\n",
       "record id                                 0\n",
       "dtype: int64"
      ]
     },
     "execution_count": 64,
     "metadata": {},
     "output_type": "execute_result"
    }
   ],
   "source": [
    "data.isna().sum() # no more missing columns"
   ]
  },
  {
   "cell_type": "code",
   "execution_count": 63,
   "metadata": {},
   "outputs": [],
   "source": [
    "data.to_csv(\"data/cleaned_data.csv\", index=False) # export cleaned data to csv"
   ]
  }
 ],
 "metadata": {
  "kernelspec": {
   "display_name": "gspread",
   "language": "python",
   "name": "python3"
  },
  "language_info": {
   "codemirror_mode": {
    "name": "ipython",
    "version": 3
   },
   "file_extension": ".py",
   "mimetype": "text/x-python",
   "name": "python",
   "nbconvert_exporter": "python",
   "pygments_lexer": "ipython3",
   "version": "3.12.0"
  }
 },
 "nbformat": 4,
 "nbformat_minor": 2
}
